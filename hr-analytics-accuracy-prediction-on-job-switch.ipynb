{
 "cells": [
  {
   "cell_type": "code",
   "execution_count": 5,
   "id": "e8ebc649",
   "metadata": {
    "_cell_guid": "b1076dfc-b9ad-4769-8c92-a6c4dae69d19",
    "_uuid": "8f2839f25d086af736a60e9eeb907d3b93b6e0e5",
    "execution": {
     "iopub.execute_input": "2021-10-16T17:51:54.009320Z",
     "iopub.status.busy": "2021-10-16T17:51:54.008669Z",
     "iopub.status.idle": "2021-10-16T17:51:55.595592Z",
     "shell.execute_reply": "2021-10-16T17:51:55.594846Z",
     "shell.execute_reply.started": "2021-10-16T17:21:51.022012Z"
    },
    "papermill": {
     "duration": 1.664543,
     "end_time": "2021-10-16T17:51:55.595800",
     "exception": false,
     "start_time": "2021-10-16T17:51:53.931257",
     "status": "completed"
    },
    "tags": []
   },
   "outputs": [],
   "source": [
    "import numpy as np \n",
    "import pandas as pd \n",
    "import matplotlib.pyplot as plt\n",
    "import seaborn as sns\n",
    "import os\n",
    "for dirname, _, filenames in os.walk('/kaggle/input'):\n",
    "    for filename in filenames:\n",
    "        print(os.path.join(dirname, filename))\n",
    "from imblearn.over_sampling import SMOTE\n",
    "from sklearn.ensemble import GradientBoostingClassifier\n",
    "from xgboost import XGBClassifier\n",
    "from sklearn.metrics import accuracy_score\n",
    "from sklearn.metrics import confusion_matrix\n",
    "from sklearn.model_selection import StratifiedKFold\n",
    "from sklearn.model_selection import cross_val_score\n",
    "from sklearn.metrics import classification_report,confusion_matrix,ConfusionMatrixDisplay\n"
   ]
  },
  {
   "cell_type": "markdown",
   "id": "0fbd42e2",
   "metadata": {
    "papermill": {
     "duration": 0.063303,
     "end_time": "2021-10-16T17:51:55.849997",
     "exception": false,
     "start_time": "2021-10-16T17:51:55.786694",
     "status": "completed"
    },
    "tags": []
   },
   "source": [
    "Here in this project, we are analysing the candidates for a company, which is promptly active in the fields of Big Data and Data Science and looking forward to hire data scientists who successfully completed courses conducted by the company as the eligibility criteria. To satisfy the eligibility criteria, many candidates signup for the aforesaid training conducted by the company.\n",
    "Company would like to assess the possibilities that candidates will retained and continue to work with them or would like to move after completing their training for new employment opportunities.\n",
    "This analysis will help the company in several ways like shortlisting of candidates, categorization, planning the appropriate course for the candidates, improve quality of training and reducing time and cost.\n",
    "The analysis will be based on different parameters provided by candidates while signing up for the training such as demographic, education, experience etc.\n"
   ]
  },
  {
   "cell_type": "markdown",
   "id": "b30b70cc",
   "metadata": {
    "papermill": {
     "duration": 0.064073,
     "end_time": "2021-10-16T17:51:55.977012",
     "exception": false,
     "start_time": "2021-10-16T17:51:55.912939",
     "status": "completed"
    },
    "tags": []
   },
   "source": [
    "**Features**\n",
    "* enrollee_id : Unique ID for candidate\n",
    "* city: City code\n",
    "* city_ development _index : Development index of the city (scaled)\n",
    "* gender: Gender of candidate\n",
    "* relevent_experience: Relevant experience of candidate\n",
    "* enrolled_university: Type of University course enrolled if any\n",
    "* education_level: Education level of candidate\n",
    "* major_discipline :Education major discipline of candidate\n",
    "* experience: Candidate total experience in years\n",
    "* company_size: No of employees in current employer's company\n",
    "* company_type : Type of current employer\n",
    "* lastnewjob: Difference in years between previous job and current job\n",
    "* training_hours: training hours completed\n",
    "* ****target: 0 – Not looking for job change, 1 – Looking for a job change****"
   ]
  },
  {
   "cell_type": "markdown",
   "id": "9c81407e",
   "metadata": {
    "execution": {
     "iopub.execute_input": "2021-10-15T18:52:01.130459Z",
     "iopub.status.busy": "2021-10-15T18:52:01.130081Z",
     "iopub.status.idle": "2021-10-15T18:52:01.140515Z",
     "shell.execute_reply": "2021-10-15T18:52:01.139576Z",
     "shell.execute_reply.started": "2021-10-15T18:52:01.130428Z"
    },
    "papermill": {
     "duration": 0.062172,
     "end_time": "2021-10-16T17:51:56.102432",
     "exception": false,
     "start_time": "2021-10-16T17:51:56.040260",
     "status": "completed"
    },
    "tags": []
   },
   "source": [
    "### Importing and exploring the dataset"
   ]
  },
  {
   "cell_type": "code",
   "execution_count": 7,
   "id": "bb45bc77",
   "metadata": {
    "execution": {
     "iopub.execute_input": "2021-10-16T17:51:56.234618Z",
     "iopub.status.busy": "2021-10-16T17:51:56.233864Z",
     "iopub.status.idle": "2021-10-16T17:51:56.314319Z",
     "shell.execute_reply": "2021-10-16T17:51:56.313708Z",
     "shell.execute_reply.started": "2021-10-16T17:21:52.446149Z"
    },
    "papermill": {
     "duration": 0.149178,
     "end_time": "2021-10-16T17:51:56.314477",
     "exception": false,
     "start_time": "2021-10-16T17:51:56.165299",
     "status": "completed"
    },
    "tags": []
   },
   "outputs": [],
   "source": [
    "df = pd.read_csv('aug_train.csv')"
   ]
  },
  {
   "cell_type": "code",
   "execution_count": 8,
   "id": "b7cf7a35",
   "metadata": {
    "execution": {
     "iopub.execute_input": "2021-10-16T17:51:56.450801Z",
     "iopub.status.busy": "2021-10-16T17:51:56.449840Z",
     "iopub.status.idle": "2021-10-16T17:51:56.454444Z",
     "shell.execute_reply": "2021-10-16T17:51:56.455023Z",
     "shell.execute_reply.started": "2021-10-16T17:21:52.527995Z"
    },
    "papermill": {
     "duration": 0.076904,
     "end_time": "2021-10-16T17:51:56.455212",
     "exception": false,
     "start_time": "2021-10-16T17:51:56.378308",
     "status": "completed"
    },
    "tags": []
   },
   "outputs": [
    {
     "data": {
      "text/plain": [
       "(19158, 14)"
      ]
     },
     "execution_count": 8,
     "metadata": {},
     "output_type": "execute_result"
    }
   ],
   "source": [
    "df.shape"
   ]
  },
  {
   "cell_type": "code",
   "execution_count": 9,
   "id": "3ed06411",
   "metadata": {
    "execution": {
     "iopub.execute_input": "2021-10-16T17:51:56.613152Z",
     "iopub.status.busy": "2021-10-16T17:51:56.593128Z",
     "iopub.status.idle": "2021-10-16T17:51:56.636217Z",
     "shell.execute_reply": "2021-10-16T17:51:56.635373Z",
     "shell.execute_reply.started": "2021-10-16T17:21:52.538395Z"
    },
    "papermill": {
     "duration": 0.11807,
     "end_time": "2021-10-16T17:51:56.636429",
     "exception": false,
     "start_time": "2021-10-16T17:51:56.518359",
     "status": "completed"
    },
    "tags": []
   },
   "outputs": [
    {
     "name": "stdout",
     "output_type": "stream",
     "text": [
      "<class 'pandas.core.frame.DataFrame'>\n",
      "RangeIndex: 19158 entries, 0 to 19157\n",
      "Data columns (total 14 columns):\n",
      " #   Column                  Non-Null Count  Dtype  \n",
      "---  ------                  --------------  -----  \n",
      " 0   enrollee_id             19158 non-null  int64  \n",
      " 1   city                    19158 non-null  object \n",
      " 2   city_development_index  19158 non-null  float64\n",
      " 3   gender                  14650 non-null  object \n",
      " 4   relevent_experience     19158 non-null  object \n",
      " 5   enrolled_university     18772 non-null  object \n",
      " 6   education_level         18698 non-null  object \n",
      " 7   major_discipline        16345 non-null  object \n",
      " 8   experience              19093 non-null  object \n",
      " 9   company_size            13220 non-null  object \n",
      " 10  company_type            13018 non-null  object \n",
      " 11  last_new_job            18735 non-null  object \n",
      " 12  training_hours          19158 non-null  int64  \n",
      " 13  target                  19158 non-null  float64\n",
      "dtypes: float64(2), int64(2), object(10)\n",
      "memory usage: 2.0+ MB\n"
     ]
    }
   ],
   "source": [
    "df.info()"
   ]
  },
  {
   "cell_type": "code",
   "execution_count": 10,
   "id": "a3fa0835",
   "metadata": {
    "execution": {
     "iopub.execute_input": "2021-10-16T17:51:56.770891Z",
     "iopub.status.busy": "2021-10-16T17:51:56.770171Z",
     "iopub.status.idle": "2021-10-16T17:51:56.789670Z",
     "shell.execute_reply": "2021-10-16T17:51:56.790181Z",
     "shell.execute_reply.started": "2021-10-16T17:21:52.587273Z"
    },
    "papermill": {
     "duration": 0.089467,
     "end_time": "2021-10-16T17:51:56.790381",
     "exception": false,
     "start_time": "2021-10-16T17:51:56.700914",
     "status": "completed"
    },
    "tags": []
   },
   "outputs": [
    {
     "data": {
      "text/html": [
       "<div>\n",
       "<style scoped>\n",
       "    .dataframe tbody tr th:only-of-type {\n",
       "        vertical-align: middle;\n",
       "    }\n",
       "\n",
       "    .dataframe tbody tr th {\n",
       "        vertical-align: top;\n",
       "    }\n",
       "\n",
       "    .dataframe thead th {\n",
       "        text-align: right;\n",
       "    }\n",
       "</style>\n",
       "<table border=\"1\" class=\"dataframe\">\n",
       "  <thead>\n",
       "    <tr style=\"text-align: right;\">\n",
       "      <th></th>\n",
       "      <th>enrollee_id</th>\n",
       "      <th>city</th>\n",
       "      <th>city_development_index</th>\n",
       "      <th>gender</th>\n",
       "      <th>relevent_experience</th>\n",
       "      <th>enrolled_university</th>\n",
       "      <th>education_level</th>\n",
       "      <th>major_discipline</th>\n",
       "      <th>experience</th>\n",
       "      <th>company_size</th>\n",
       "      <th>company_type</th>\n",
       "      <th>last_new_job</th>\n",
       "      <th>training_hours</th>\n",
       "      <th>target</th>\n",
       "    </tr>\n",
       "  </thead>\n",
       "  <tbody>\n",
       "    <tr>\n",
       "      <th>0</th>\n",
       "      <td>8949</td>\n",
       "      <td>city_103</td>\n",
       "      <td>0.920</td>\n",
       "      <td>Male</td>\n",
       "      <td>Has relevent experience</td>\n",
       "      <td>no_enrollment</td>\n",
       "      <td>Graduate</td>\n",
       "      <td>STEM</td>\n",
       "      <td>&gt;20</td>\n",
       "      <td>NaN</td>\n",
       "      <td>NaN</td>\n",
       "      <td>1</td>\n",
       "      <td>36</td>\n",
       "      <td>1.0</td>\n",
       "    </tr>\n",
       "    <tr>\n",
       "      <th>1</th>\n",
       "      <td>29725</td>\n",
       "      <td>city_40</td>\n",
       "      <td>0.776</td>\n",
       "      <td>Male</td>\n",
       "      <td>No relevent experience</td>\n",
       "      <td>no_enrollment</td>\n",
       "      <td>Graduate</td>\n",
       "      <td>STEM</td>\n",
       "      <td>15</td>\n",
       "      <td>50-99</td>\n",
       "      <td>Pvt Ltd</td>\n",
       "      <td>&gt;4</td>\n",
       "      <td>47</td>\n",
       "      <td>0.0</td>\n",
       "    </tr>\n",
       "    <tr>\n",
       "      <th>2</th>\n",
       "      <td>11561</td>\n",
       "      <td>city_21</td>\n",
       "      <td>0.624</td>\n",
       "      <td>NaN</td>\n",
       "      <td>No relevent experience</td>\n",
       "      <td>Full time course</td>\n",
       "      <td>Graduate</td>\n",
       "      <td>STEM</td>\n",
       "      <td>5</td>\n",
       "      <td>NaN</td>\n",
       "      <td>NaN</td>\n",
       "      <td>never</td>\n",
       "      <td>83</td>\n",
       "      <td>0.0</td>\n",
       "    </tr>\n",
       "    <tr>\n",
       "      <th>3</th>\n",
       "      <td>33241</td>\n",
       "      <td>city_115</td>\n",
       "      <td>0.789</td>\n",
       "      <td>NaN</td>\n",
       "      <td>No relevent experience</td>\n",
       "      <td>NaN</td>\n",
       "      <td>Graduate</td>\n",
       "      <td>Business Degree</td>\n",
       "      <td>&lt;1</td>\n",
       "      <td>NaN</td>\n",
       "      <td>Pvt Ltd</td>\n",
       "      <td>never</td>\n",
       "      <td>52</td>\n",
       "      <td>1.0</td>\n",
       "    </tr>\n",
       "    <tr>\n",
       "      <th>4</th>\n",
       "      <td>666</td>\n",
       "      <td>city_162</td>\n",
       "      <td>0.767</td>\n",
       "      <td>Male</td>\n",
       "      <td>Has relevent experience</td>\n",
       "      <td>no_enrollment</td>\n",
       "      <td>Masters</td>\n",
       "      <td>STEM</td>\n",
       "      <td>&gt;20</td>\n",
       "      <td>50-99</td>\n",
       "      <td>Funded Startup</td>\n",
       "      <td>4</td>\n",
       "      <td>8</td>\n",
       "      <td>0.0</td>\n",
       "    </tr>\n",
       "  </tbody>\n",
       "</table>\n",
       "</div>"
      ],
      "text/plain": [
       "   enrollee_id      city  city_development_index gender  \\\n",
       "0         8949  city_103                   0.920   Male   \n",
       "1        29725   city_40                   0.776   Male   \n",
       "2        11561   city_21                   0.624    NaN   \n",
       "3        33241  city_115                   0.789    NaN   \n",
       "4          666  city_162                   0.767   Male   \n",
       "\n",
       "       relevent_experience enrolled_university education_level  \\\n",
       "0  Has relevent experience       no_enrollment        Graduate   \n",
       "1   No relevent experience       no_enrollment        Graduate   \n",
       "2   No relevent experience    Full time course        Graduate   \n",
       "3   No relevent experience                 NaN        Graduate   \n",
       "4  Has relevent experience       no_enrollment         Masters   \n",
       "\n",
       "  major_discipline experience company_size    company_type last_new_job  \\\n",
       "0             STEM        >20          NaN             NaN            1   \n",
       "1             STEM         15        50-99         Pvt Ltd           >4   \n",
       "2             STEM          5          NaN             NaN        never   \n",
       "3  Business Degree         <1          NaN         Pvt Ltd        never   \n",
       "4             STEM        >20        50-99  Funded Startup            4   \n",
       "\n",
       "   training_hours  target  \n",
       "0              36     1.0  \n",
       "1              47     0.0  \n",
       "2              83     0.0  \n",
       "3              52     1.0  \n",
       "4               8     0.0  "
      ]
     },
     "execution_count": 10,
     "metadata": {},
     "output_type": "execute_result"
    }
   ],
   "source": [
    "df.head()"
   ]
  },
  {
   "cell_type": "markdown",
   "id": "36121e9f",
   "metadata": {
    "execution": {
     "iopub.execute_input": "2021-10-15T18:52:01.286065Z",
     "iopub.status.busy": "2021-10-15T18:52:01.285145Z",
     "iopub.status.idle": "2021-10-15T18:52:01.294948Z",
     "shell.execute_reply": "2021-10-15T18:52:01.294244Z",
     "shell.execute_reply.started": "2021-10-15T18:52:01.286004Z"
    },
    "papermill": {
     "duration": 0.065522,
     "end_time": "2021-10-16T17:51:56.920761",
     "exception": false,
     "start_time": "2021-10-16T17:51:56.855239",
     "status": "completed"
    },
    "tags": []
   },
   "source": [
    "#### Dropping the columns which are not very useful and not having reasonable relation with the required analysis."
   ]
  },
  {
   "cell_type": "code",
   "execution_count": 11,
   "id": "08fa6304",
   "metadata": {
    "execution": {
     "iopub.execute_input": "2021-10-16T17:51:57.055222Z",
     "iopub.status.busy": "2021-10-16T17:51:57.054515Z",
     "iopub.status.idle": "2021-10-16T17:51:57.070901Z",
     "shell.execute_reply": "2021-10-16T17:51:57.071390Z",
     "shell.execute_reply.started": "2021-10-16T17:21:52.609011Z"
    },
    "papermill": {
     "duration": 0.08493,
     "end_time": "2021-10-16T17:51:57.071619",
     "exception": false,
     "start_time": "2021-10-16T17:51:56.986689",
     "status": "completed"
    },
    "tags": []
   },
   "outputs": [],
   "source": [
    "df.drop(['enrollee_id'],axis=1,inplace=True)\n",
    "df.drop(['city'],axis=1,inplace=True)\n",
    "df.drop(['company_size'],axis=1,inplace=True)\n",
    "df.drop(['last_new_job'],axis=1,inplace=True)"
   ]
  },
  {
   "cell_type": "markdown",
   "id": "1a1c4a92",
   "metadata": {
    "execution": {
     "iopub.execute_input": "2021-10-15T14:31:36.280213Z",
     "iopub.status.busy": "2021-10-15T14:31:36.279562Z",
     "iopub.status.idle": "2021-10-15T14:31:36.285928Z",
     "shell.execute_reply": "2021-10-15T14:31:36.284477Z",
     "shell.execute_reply.started": "2021-10-15T14:31:36.280162Z"
    },
    "papermill": {
     "duration": 0.06421,
     "end_time": "2021-10-16T17:51:57.200082",
     "exception": false,
     "start_time": "2021-10-16T17:51:57.135872",
     "status": "completed"
    },
    "tags": []
   },
   "source": [
    "## Missing Value Analysis"
   ]
  },
  {
   "cell_type": "code",
   "execution_count": 12,
   "id": "f0a3cefb",
   "metadata": {
    "execution": {
     "iopub.execute_input": "2021-10-16T17:51:57.332843Z",
     "iopub.status.busy": "2021-10-16T17:51:57.332127Z",
     "iopub.status.idle": "2021-10-16T17:51:57.353455Z",
     "shell.execute_reply": "2021-10-16T17:51:57.353983Z",
     "shell.execute_reply.started": "2021-10-16T17:21:52.626939Z"
    },
    "papermill": {
     "duration": 0.089569,
     "end_time": "2021-10-16T17:51:57.354180",
     "exception": false,
     "start_time": "2021-10-16T17:51:57.264611",
     "status": "completed"
    },
    "tags": []
   },
   "outputs": [
    {
     "data": {
      "text/plain": [
       "city_development_index       0\n",
       "gender                    4508\n",
       "relevent_experience          0\n",
       "enrolled_university        386\n",
       "education_level            460\n",
       "major_discipline          2813\n",
       "experience                  65\n",
       "company_type              6140\n",
       "training_hours               0\n",
       "target                       0\n",
       "dtype: int64"
      ]
     },
     "execution_count": 12,
     "metadata": {},
     "output_type": "execute_result"
    }
   ],
   "source": [
    "df.isnull().sum()"
   ]
  },
  {
   "cell_type": "code",
   "execution_count": 13,
   "id": "a9bfc3b8",
   "metadata": {
    "execution": {
     "iopub.execute_input": "2021-10-16T17:51:57.488752Z",
     "iopub.status.busy": "2021-10-16T17:51:57.488029Z",
     "iopub.status.idle": "2021-10-16T17:51:57.510646Z",
     "shell.execute_reply": "2021-10-16T17:51:57.509956Z",
     "shell.execute_reply.started": "2021-10-16T17:21:52.653622Z"
    },
    "papermill": {
     "duration": 0.092413,
     "end_time": "2021-10-16T17:51:57.510807",
     "exception": false,
     "start_time": "2021-10-16T17:51:57.418394",
     "status": "completed"
    },
    "tags": []
   },
   "outputs": [
    {
     "data": {
      "text/plain": [
       "city_development_index    0.000000\n",
       "gender                    0.235306\n",
       "relevent_experience       0.000000\n",
       "enrolled_university       0.020148\n",
       "education_level           0.024011\n",
       "major_discipline          0.146832\n",
       "experience                0.003393\n",
       "company_type              0.320493\n",
       "training_hours            0.000000\n",
       "target                    0.000000\n",
       "dtype: float64"
      ]
     },
     "execution_count": 13,
     "metadata": {},
     "output_type": "execute_result"
    }
   ],
   "source": [
    "df.isnull().mean()"
   ]
  },
  {
   "cell_type": "markdown",
   "id": "fd7129b7",
   "metadata": {
    "execution": {
     "iopub.execute_input": "2021-10-15T19:06:12.143646Z",
     "iopub.status.busy": "2021-10-15T19:06:12.142595Z",
     "iopub.status.idle": "2021-10-15T19:06:12.147642Z",
     "shell.execute_reply": "2021-10-15T19:06:12.146569Z",
     "shell.execute_reply.started": "2021-10-15T19:06:12.143612Z"
    },
    "papermill": {
     "duration": 0.066221,
     "end_time": "2021-10-16T17:51:57.642896",
     "exception": false,
     "start_time": "2021-10-16T17:51:57.576675",
     "status": "completed"
    },
    "tags": []
   },
   "source": [
    "* From above, we can clearly states that only 4 components have been properly filled by the candidates out of 10, whereas 6 are having null or missing values. Company_type is having highest null values 32% (approx) followed by gender 23% (approx)."
   ]
  },
  {
   "cell_type": "markdown",
   "id": "dc12c809",
   "metadata": {
    "execution": {
     "iopub.execute_input": "2021-10-12T15:13:49.519408Z",
     "iopub.status.busy": "2021-10-12T15:13:49.518826Z",
     "iopub.status.idle": "2021-10-12T15:13:49.52583Z",
     "shell.execute_reply": "2021-10-12T15:13:49.524626Z",
     "shell.execute_reply.started": "2021-10-12T15:13:49.519365Z"
    },
    "papermill": {
     "duration": 0.064727,
     "end_time": "2021-10-16T17:51:57.772472",
     "exception": false,
     "start_time": "2021-10-16T17:51:57.707745",
     "status": "completed"
    },
    "tags": []
   },
   "source": [
    "## Visualisation and Missing Values Treatment "
   ]
  },
  {
   "cell_type": "markdown",
   "id": "9098c345",
   "metadata": {
    "papermill": {
     "duration": 0.064985,
     "end_time": "2021-10-16T17:51:57.902885",
     "exception": false,
     "start_time": "2021-10-16T17:51:57.837900",
     "status": "completed"
    },
    "tags": []
   },
   "source": [
    "In this section,\n",
    "* First, we will verify the data through visualization to observe and identify any possible pattern in the data,\n",
    "* Second, we will treat the missing values to complete the data, by replacing the null values with the highest number of component available in the column.\n",
    "* Third, we will encode the data by using get_dummies() method\n",
    "* and last, we will use dropping features for all those components which are relatively less significant for the analysis.\n"
   ]
  },
  {
   "cell_type": "markdown",
   "id": "34b94688",
   "metadata": {
    "papermill": {
     "duration": 0.066625,
     "end_time": "2021-10-16T17:51:58.036156",
     "exception": false,
     "start_time": "2021-10-16T17:51:57.969531",
     "status": "completed"
    },
    "tags": []
   },
   "source": [
    " #### a) city_development_index"
   ]
  },
  {
   "cell_type": "code",
   "execution_count": 14,
   "id": "1054ef76",
   "metadata": {
    "execution": {
     "iopub.execute_input": "2021-10-16T17:51:58.174054Z",
     "iopub.status.busy": "2021-10-16T17:51:58.173370Z",
     "iopub.status.idle": "2021-10-16T17:51:58.816065Z",
     "shell.execute_reply": "2021-10-16T17:51:58.815379Z",
     "shell.execute_reply.started": "2021-10-16T17:21:52.677555Z"
    },
    "papermill": {
     "duration": 0.715005,
     "end_time": "2021-10-16T17:51:58.816215",
     "exception": false,
     "start_time": "2021-10-16T17:51:58.101210",
     "status": "completed"
    },
    "tags": []
   },
   "outputs": [
    {
     "data": {
      "text/plain": [
       "<AxesSubplot:xlabel='city_development_index', ylabel='Density'>"
      ]
     },
     "execution_count": 14,
     "metadata": {},
     "output_type": "execute_result"
    },
    {
     "data": {
      "image/png": "[encoded data removed]",
      "text/plain": [
       "<Figure size 720x360 with 1 Axes>"
      ]
     },
     "metadata": {
      "needs_background": "light"
     },
     "output_type": "display_data"
    }
   ],
   "source": [
    "plt.figure(figsize=(10, 5))\n",
    "sns.kdeplot(data=df, x=\"city_development_index\", hue=\"target\",cut = 0,palette='Set2')"
   ]
  },
  {
   "cell_type": "markdown",
   "id": "e9db345e",
   "metadata": {
    "papermill": {
     "duration": 0.066112,
     "end_time": "2021-10-16T17:51:58.949808",
     "exception": false,
     "start_time": "2021-10-16T17:51:58.883696",
     "status": "completed"
    },
    "tags": []
   },
   "source": [
    "* From this graph, we can observe that persons who live in developed cities have a lower likelihood of changing occupations."
   ]
  },
  {
   "cell_type": "markdown",
   "id": "16341a9f",
   "metadata": {
    "papermill": {
     "duration": 0.065232,
     "end_time": "2021-10-16T17:51:59.081958",
     "exception": false,
     "start_time": "2021-10-16T17:51:59.016726",
     "status": "completed"
    },
    "tags": []
   },
   "source": [
    "#### b) gender"
   ]
  },
  {
   "cell_type": "code",
   "execution_count": 15,
   "id": "d1760999",
   "metadata": {
    "execution": {
     "iopub.execute_input": "2021-10-16T17:51:59.217557Z",
     "iopub.status.busy": "2021-10-16T17:51:59.216567Z",
     "iopub.status.idle": "2021-10-16T17:51:59.445157Z",
     "shell.execute_reply": "2021-10-16T17:51:59.444364Z",
     "shell.execute_reply.started": "2021-10-16T17:21:53.269906Z"
    },
    "papermill": {
     "duration": 0.297915,
     "end_time": "2021-10-16T17:51:59.445311",
     "exception": false,
     "start_time": "2021-10-16T17:51:59.147396",
     "status": "completed"
    },
    "tags": []
   },
   "outputs": [
    {
     "name": "stderr",
     "output_type": "stream",
     "text": [
      "C:\\ProgramData\\Anaconda3\\lib\\site-packages\\seaborn\\_decorators.py:36: FutureWarning: Pass the following variable as a keyword arg: x. From version 0.12, the only valid positional argument will be `data`, and passing other arguments without an explicit keyword will result in an error or misinterpretation.\n",
      "  warnings.warn(\n"
     ]
    },
    {
     "data": {
      "text/plain": [
       "(array([0, 1, 2]),\n",
       " [Text(0, 0, 'Male'), Text(1, 0, 'Female'), Text(2, 0, 'Other')])"
      ]
     },
     "execution_count": 15,
     "metadata": {},
     "output_type": "execute_result"
    },
    {
     "data": {
      "image/png": "[encoded data removed]",
      "text/plain": [
       "<Figure size 504x360 with 1 Axes>"
      ]
     },
     "metadata": {
      "needs_background": "light"
     },
     "output_type": "display_data"
    }
   ],
   "source": [
    "plt.figure(figsize=(7,5))\n",
    "ax=sns.countplot(df.gender)\n",
    "\n",
    "plt.xticks(rotation=0)"
   ]
  },
  {
   "cell_type": "markdown",
   "id": "3d3c7c50",
   "metadata": {
    "papermill": {
     "duration": 0.066771,
     "end_time": "2021-10-16T17:51:59.580016",
     "exception": false,
     "start_time": "2021-10-16T17:51:59.513245",
     "status": "completed"
    },
    "tags": []
   },
   "source": [
    "* The number of male candidates who applied for the job is the highest."
   ]
  },
  {
   "cell_type": "code",
   "execution_count": 16,
   "id": "77915b85",
   "metadata": {
    "execution": {
     "iopub.execute_input": "2021-10-16T17:51:59.729207Z",
     "iopub.status.busy": "2021-10-16T17:51:59.728234Z",
     "iopub.status.idle": "2021-10-16T17:51:59.731925Z",
     "shell.execute_reply": "2021-10-16T17:51:59.732377Z",
     "shell.execute_reply.started": "2021-10-16T17:21:53.498794Z"
    },
    "papermill": {
     "duration": 0.082897,
     "end_time": "2021-10-16T17:51:59.732722",
     "exception": false,
     "start_time": "2021-10-16T17:51:59.649825",
     "status": "completed"
    },
    "tags": []
   },
   "outputs": [
    {
     "data": {
      "text/plain": [
       "4508"
      ]
     },
     "execution_count": 16,
     "metadata": {},
     "output_type": "execute_result"
    }
   ],
   "source": [
    "df['gender'].isnull().sum()"
   ]
  },
  {
   "cell_type": "code",
   "execution_count": 17,
   "id": "b551b477",
   "metadata": {
    "execution": {
     "iopub.execute_input": "2021-10-16T17:51:59.883731Z",
     "iopub.status.busy": "2021-10-16T17:51:59.882955Z",
     "iopub.status.idle": "2021-10-16T17:51:59.894053Z",
     "shell.execute_reply": "2021-10-16T17:51:59.893488Z",
     "shell.execute_reply.started": "2021-10-16T17:21:53.510366Z"
    },
    "papermill": {
     "duration": 0.092448,
     "end_time": "2021-10-16T17:51:59.894214",
     "exception": false,
     "start_time": "2021-10-16T17:51:59.801766",
     "status": "completed"
    },
    "tags": []
   },
   "outputs": [],
   "source": [
    "df[\"gender\"].fillna(\"Male\", inplace = True)\n",
    "sex = pd.get_dummies(df['gender'])\n",
    "df.drop(['gender'],axis=1,inplace=True)\n",
    "df = pd.concat([df,sex],axis=1)\n",
    "df.drop(['Other'],axis=1,inplace=True) "
   ]
  },
  {
   "cell_type": "markdown",
   "id": "664d8fe3",
   "metadata": {
    "papermill": {
     "duration": 0.069687,
     "end_time": "2021-10-16T17:52:00.031684",
     "exception": false,
     "start_time": "2021-10-16T17:51:59.961997",
     "status": "completed"
    },
    "tags": []
   },
   "source": [
    "#### c)relevant_experience"
   ]
  },
  {
   "cell_type": "code",
   "execution_count": 18,
   "id": "ae6274e9",
   "metadata": {
    "execution": {
     "iopub.execute_input": "2021-10-16T17:52:00.173666Z",
     "iopub.status.busy": "2021-10-16T17:52:00.172938Z",
     "iopub.status.idle": "2021-10-16T17:52:00.642526Z",
     "shell.execute_reply": "2021-10-16T17:52:00.641347Z",
     "shell.execute_reply.started": "2021-10-16T17:21:53.532286Z"
    },
    "papermill": {
     "duration": 0.543464,
     "end_time": "2021-10-16T17:52:00.642729",
     "exception": false,
     "start_time": "2021-10-16T17:52:00.099265",
     "status": "completed"
    },
    "tags": []
   },
   "outputs": [
    {
     "name": "stderr",
     "output_type": "stream",
     "text": [
      "C:\\ProgramData\\Anaconda3\\lib\\site-packages\\seaborn\\categorical.py:3714: UserWarning: The `factorplot` function has been renamed to `catplot`. The original name will be removed in a future release. Please update your code. Note that the default `kind` in `factorplot` (`'point'`) has changed `'strip'` in `catplot`.\n",
      "  warnings.warn(msg)\n",
      "C:\\ProgramData\\Anaconda3\\lib\\site-packages\\seaborn\\_decorators.py:36: FutureWarning: Pass the following variable as a keyword arg: x. From version 0.12, the only valid positional argument will be `data`, and passing other arguments without an explicit keyword will result in an error or misinterpretation.\n",
      "  warnings.warn(\n"
     ]
    },
    {
     "data": {
      "image/png": "[encoded data removed]",
      "text/plain": [
       "<Figure size 770x360 with 1 Axes>"
      ]
     },
     "metadata": {},
     "output_type": "display_data"
    }
   ],
   "source": [
    "with sns.axes_style('white'):\n",
    "    rel_exp = sns.factorplot(\"relevent_experience\", data=df, aspect=2.0, kind='count',\n",
    "                       hue='target')\n",
    "    \n",
    "    "
   ]
  },
  {
   "cell_type": "markdown",
   "id": "6ff682c5",
   "metadata": {
    "papermill": {
     "duration": 0.069309,
     "end_time": "2021-10-16T17:52:00.782063",
     "exception": false,
     "start_time": "2021-10-16T17:52:00.712754",
     "status": "completed"
    },
    "tags": []
   },
   "source": [
    "* Here, from the above chart, we can analyse that candidates who are having relevant experience in the concerned field are less likely to switch their job in comparison to the others who have no relevant experience."
   ]
  },
  {
   "cell_type": "code",
   "execution_count": 19,
   "id": "11041160",
   "metadata": {
    "execution": {
     "iopub.execute_input": "2021-10-16T17:52:00.930021Z",
     "iopub.status.busy": "2021-10-16T17:52:00.929306Z",
     "iopub.status.idle": "2021-10-16T17:52:00.940501Z",
     "shell.execute_reply": "2021-10-16T17:52:00.939975Z",
     "shell.execute_reply.started": "2021-10-16T17:21:53.991180Z"
    },
    "papermill": {
     "duration": 0.089498,
     "end_time": "2021-10-16T17:52:00.940677",
     "exception": false,
     "start_time": "2021-10-16T17:52:00.851179",
     "status": "completed"
    },
    "tags": []
   },
   "outputs": [],
   "source": [
    "rel_exp = pd.get_dummies(df['relevent_experience'])\n",
    "df.drop(['relevent_experience'],axis=1,inplace=True)\n",
    "df = pd.concat([df,rel_exp],axis=1)\n",
    "df.drop(['No relevent experience'],axis=1,inplace=True)\n"
   ]
  },
  {
   "cell_type": "markdown",
   "id": "d26b0995",
   "metadata": {
    "papermill": {
     "duration": 0.082465,
     "end_time": "2021-10-16T17:52:01.094181",
     "exception": false,
     "start_time": "2021-10-16T17:52:01.011716",
     "status": "completed"
    },
    "tags": []
   },
   "source": [
    "#### d) enrolled_university"
   ]
  },
  {
   "cell_type": "code",
   "execution_count": 20,
   "id": "c9ed88da",
   "metadata": {
    "execution": {
     "iopub.execute_input": "2021-10-16T17:52:01.246190Z",
     "iopub.status.busy": "2021-10-16T17:52:01.245249Z",
     "iopub.status.idle": "2021-10-16T17:52:01.254852Z",
     "shell.execute_reply": "2021-10-16T17:52:01.255426Z",
     "shell.execute_reply.started": "2021-10-16T17:21:54.007750Z"
    },
    "papermill": {
     "duration": 0.088698,
     "end_time": "2021-10-16T17:52:01.255607",
     "exception": false,
     "start_time": "2021-10-16T17:52:01.166909",
     "status": "completed"
    },
    "tags": []
   },
   "outputs": [
    {
     "data": {
      "text/plain": [
       "no_enrollment       13817\n",
       "Full time course     3757\n",
       "Part time course     1198\n",
       "Name: enrolled_university, dtype: int64"
      ]
     },
     "execution_count": 20,
     "metadata": {},
     "output_type": "execute_result"
    }
   ],
   "source": [
    "df[\"enrolled_university\"].value_counts()"
   ]
  },
  {
   "cell_type": "code",
   "execution_count": 21,
   "id": "f7629adb",
   "metadata": {
    "execution": {
     "iopub.execute_input": "2021-10-16T17:52:01.414443Z",
     "iopub.status.busy": "2021-10-16T17:52:01.413522Z",
     "iopub.status.idle": "2021-10-16T17:52:01.429828Z",
     "shell.execute_reply": "2021-10-16T17:52:01.430331Z",
     "shell.execute_reply.started": "2021-10-16T17:21:54.018889Z"
    },
    "papermill": {
     "duration": 0.105778,
     "end_time": "2021-10-16T17:52:01.430502",
     "exception": false,
     "start_time": "2021-10-16T17:52:01.324724",
     "status": "completed"
    },
    "tags": []
   },
   "outputs": [],
   "source": [
    "df[\"enrolled_university\"].fillna(\"no_enrollment\", inplace = True)\n",
    "enrol_uni = pd.get_dummies(df['enrolled_university'])\n",
    "df.drop(['enrolled_university'],axis=1,inplace=True)\n",
    "df = pd.concat([df,enrol_uni],axis=1)\n",
    "df.drop(['Part time course'],axis=1,inplace=True) "
   ]
  },
  {
   "cell_type": "markdown",
   "id": "4c9230d7",
   "metadata": {
    "papermill": {
     "duration": 0.068819,
     "end_time": "2021-10-16T17:52:01.568066",
     "exception": false,
     "start_time": "2021-10-16T17:52:01.499247",
     "status": "completed"
    },
    "tags": []
   },
   "source": [
    "#### e) education_level"
   ]
  },
  {
   "cell_type": "code",
   "execution_count": 22,
   "id": "e5163cd7",
   "metadata": {
    "execution": {
     "iopub.execute_input": "2021-10-16T17:52:01.712004Z",
     "iopub.status.busy": "2021-10-16T17:52:01.711072Z",
     "iopub.status.idle": "2021-10-16T17:52:02.255412Z",
     "shell.execute_reply": "2021-10-16T17:52:02.256100Z",
     "shell.execute_reply.started": "2021-10-16T17:21:54.041314Z"
    },
    "papermill": {
     "duration": 0.619118,
     "end_time": "2021-10-16T17:52:02.256276",
     "exception": false,
     "start_time": "2021-10-16T17:52:01.637158",
     "status": "completed"
    },
    "tags": []
   },
   "outputs": [
    {
     "name": "stderr",
     "output_type": "stream",
     "text": [
      "C:\\ProgramData\\Anaconda3\\lib\\site-packages\\seaborn\\categorical.py:3714: UserWarning: The `factorplot` function has been renamed to `catplot`. The original name will be removed in a future release. Please update your code. Note that the default `kind` in `factorplot` (`'point'`) has changed `'strip'` in `catplot`.\n",
      "  warnings.warn(msg)\n",
      "C:\\ProgramData\\Anaconda3\\lib\\site-packages\\seaborn\\_decorators.py:36: FutureWarning: Pass the following variable as a keyword arg: x. From version 0.12, the only valid positional argument will be `data`, and passing other arguments without an explicit keyword will result in an error or misinterpretation.\n",
      "  warnings.warn(\n"
     ]
    },
    {
     "data": {
      "image/png": "[encoded data removed]",
      "text/plain": [
       "<Figure size 770x360 with 1 Axes>"
      ]
     },
     "metadata": {},
     "output_type": "display_data"
    }
   ],
   "source": [
    "with sns.axes_style('white'):\n",
    "    rel_exp = sns.factorplot(\"education_level\", data=df, aspect=2.0, kind='count',\n",
    "                       hue='target',palette = 'Set2')"
   ]
  },
  {
   "cell_type": "markdown",
   "id": "8c45ff58",
   "metadata": {
    "papermill": {
     "duration": 0.069577,
     "end_time": "2021-10-16T17:52:02.396438",
     "exception": false,
     "start_time": "2021-10-16T17:52:02.326861",
     "status": "completed"
    },
    "tags": []
   },
   "source": [
    "* Most of the candidates are having graduation as their highest qualificatiojn followed by masters, and very few candidates are having Phd as their qualification."
   ]
  },
  {
   "cell_type": "code",
   "execution_count": 23,
   "id": "9c25aca3",
   "metadata": {
    "execution": {
     "iopub.execute_input": "2021-10-16T17:52:02.540151Z",
     "iopub.status.busy": "2021-10-16T17:52:02.539182Z",
     "iopub.status.idle": "2021-10-16T17:52:02.554930Z",
     "shell.execute_reply": "2021-10-16T17:52:02.555436Z",
     "shell.execute_reply.started": "2021-10-16T17:21:54.573408Z"
    },
    "papermill": {
     "duration": 0.089091,
     "end_time": "2021-10-16T17:52:02.555628",
     "exception": false,
     "start_time": "2021-10-16T17:52:02.466537",
     "status": "completed"
    },
    "tags": []
   },
   "outputs": [],
   "source": [
    "df[\"education_level\"].fillna(\"Graduate\", inplace = True)\n",
    "edu_level = pd.get_dummies(df['education_level'])\n",
    "df.drop(['education_level'],axis=1,inplace=True)\n",
    "df = pd.concat([df,edu_level],axis=1)\n",
    "\n",
    "df.drop(['Phd','Primary School'],axis=1,inplace=True)"
   ]
  },
  {
   "cell_type": "markdown",
   "id": "29ea967d",
   "metadata": {
    "papermill": {
     "duration": 0.072752,
     "end_time": "2021-10-16T17:52:02.698694",
     "exception": false,
     "start_time": "2021-10-16T17:52:02.625942",
     "status": "completed"
    },
    "tags": []
   },
   "source": [
    "#### f) major_discipline"
   ]
  },
  {
   "cell_type": "code",
   "execution_count": 24,
   "id": "9f2f3b1f",
   "metadata": {
    "execution": {
     "iopub.execute_input": "2021-10-16T17:52:02.845871Z",
     "iopub.status.busy": "2021-10-16T17:52:02.844693Z",
     "iopub.status.idle": "2021-10-16T17:52:03.111191Z",
     "shell.execute_reply": "2021-10-16T17:52:03.111911Z",
     "shell.execute_reply.started": "2021-10-16T17:21:54.589798Z"
    },
    "papermill": {
     "duration": 0.342554,
     "end_time": "2021-10-16T17:52:03.112114",
     "exception": false,
     "start_time": "2021-10-16T17:52:02.769560",
     "status": "completed"
    },
    "tags": []
   },
   "outputs": [
    {
     "name": "stderr",
     "output_type": "stream",
     "text": [
      "C:\\ProgramData\\Anaconda3\\lib\\site-packages\\seaborn\\_decorators.py:36: FutureWarning: Pass the following variable as a keyword arg: x. From version 0.12, the only valid positional argument will be `data`, and passing other arguments without an explicit keyword will result in an error or misinterpretation.\n",
      "  warnings.warn(\n"
     ]
    },
    {
     "data": {
      "text/plain": [
       "(array([0, 1, 2, 3, 4, 5]),\n",
       " [Text(0, 0, 'STEM'),\n",
       "  Text(1, 0, 'Business Degree'),\n",
       "  Text(2, 0, 'Arts'),\n",
       "  Text(3, 0, 'Humanities'),\n",
       "  Text(4, 0, 'No Major'),\n",
       "  Text(5, 0, 'Other')])"
      ]
     },
     "execution_count": 24,
     "metadata": {},
     "output_type": "execute_result"
    },
    {
     "data": {
      "image/png": "[encoded data removed]",
      "text/plain": [
       "<Figure size 504x360 with 1 Axes>"
      ]
     },
     "metadata": {
      "needs_background": "light"
     },
     "output_type": "display_data"
    }
   ],
   "source": [
    "plt.figure(figsize=(7,5))\n",
    "ax=sns.countplot(df.major_discipline)\n",
    "plt.xticks(rotation=0)"
   ]
  },
  {
   "cell_type": "markdown",
   "id": "40b5aaea",
   "metadata": {
    "papermill": {
     "duration": 0.07241,
     "end_time": "2021-10-16T17:52:03.257338",
     "exception": false,
     "start_time": "2021-10-16T17:52:03.184928",
     "status": "completed"
    },
    "tags": []
   },
   "source": [
    "* Majority of the candidates are from STEM."
   ]
  },
  {
   "cell_type": "code",
   "execution_count": 25,
   "id": "7acfc570",
   "metadata": {
    "execution": {
     "iopub.execute_input": "2021-10-16T17:52:03.415522Z",
     "iopub.status.busy": "2021-10-16T17:52:03.414549Z",
     "iopub.status.idle": "2021-10-16T17:52:03.422990Z",
     "shell.execute_reply": "2021-10-16T17:52:03.422351Z",
     "shell.execute_reply.started": "2021-10-16T17:21:54.841096Z"
    },
    "papermill": {
     "duration": 0.093026,
     "end_time": "2021-10-16T17:52:03.423164",
     "exception": false,
     "start_time": "2021-10-16T17:52:03.330138",
     "status": "completed"
    },
    "tags": []
   },
   "outputs": [],
   "source": [
    "df[\"major_discipline\"].fillna(\"STEM\", inplace = True)\n",
    "m_disci = pd.get_dummies(df['major_discipline'])\n",
    "df.drop(['major_discipline'],axis=1,inplace=True)\n",
    "df= pd.concat([df,m_disci],axis=1)\n",
    "\n",
    "df.drop(['Business Degree','Arts','Humanities','No Major','Other'],axis=1,inplace=True)"
   ]
  },
  {
   "cell_type": "markdown",
   "id": "30565a29",
   "metadata": {
    "papermill": {
     "duration": 0.072107,
     "end_time": "2021-10-16T17:52:03.568172",
     "exception": false,
     "start_time": "2021-10-16T17:52:03.496065",
     "status": "completed"
    },
    "tags": []
   },
   "source": [
    "#### g) experience"
   ]
  },
  {
   "cell_type": "code",
   "execution_count": 26,
   "id": "468c9410",
   "metadata": {
    "execution": {
     "iopub.execute_input": "2021-10-16T17:52:03.723805Z",
     "iopub.status.busy": "2021-10-16T17:52:03.723070Z",
     "iopub.status.idle": "2021-10-16T17:52:03.727714Z",
     "shell.execute_reply": "2021-10-16T17:52:03.728162Z",
     "shell.execute_reply.started": "2021-10-16T17:21:54.859120Z"
    },
    "papermill": {
     "duration": 0.087737,
     "end_time": "2021-10-16T17:52:03.728367",
     "exception": false,
     "start_time": "2021-10-16T17:52:03.640630",
     "status": "completed"
    },
    "tags": []
   },
   "outputs": [
    {
     "data": {
      "text/plain": [
       ">20    3286\n",
       "5      1430\n",
       "4      1403\n",
       "3      1354\n",
       "6      1216\n",
       "2      1127\n",
       "7      1028\n",
       "10      985\n",
       "9       980\n",
       "8       802\n",
       "15      686\n",
       "11      664\n",
       "14      586\n",
       "1       549\n",
       "<1      522\n",
       "16      508\n",
       "12      494\n",
       "13      399\n",
       "17      342\n",
       "19      304\n",
       "18      280\n",
       "20      148\n",
       "Name: experience, dtype: int64"
      ]
     },
     "execution_count": 26,
     "metadata": {},
     "output_type": "execute_result"
    }
   ],
   "source": [
    "df[\"experience\"].value_counts()"
   ]
  },
  {
   "cell_type": "code",
   "execution_count": 27,
   "id": "190bb089",
   "metadata": {
    "execution": {
     "iopub.execute_input": "2021-10-16T17:52:03.879425Z",
     "iopub.status.busy": "2021-10-16T17:52:03.878663Z",
     "iopub.status.idle": "2021-10-16T17:52:03.890853Z",
     "shell.execute_reply": "2021-10-16T17:52:03.891325Z",
     "shell.execute_reply.started": "2021-10-16T17:21:54.870462Z"
    },
    "papermill": {
     "duration": 0.09005,
     "end_time": "2021-10-16T17:52:03.891528",
     "exception": false,
     "start_time": "2021-10-16T17:52:03.801478",
     "status": "completed"
    },
    "tags": []
   },
   "outputs": [],
   "source": [
    "df[\"experience\"].fillna(\"20\", inplace = True)\n",
    "df.replace({\"experience\":{\">20\":20,\"<1\":1}},inplace = True)"
   ]
  },
  {
   "cell_type": "code",
   "execution_count": 28,
   "id": "3ebec54b",
   "metadata": {
    "execution": {
     "iopub.execute_input": "2021-10-16T17:52:04.044939Z",
     "iopub.status.busy": "2021-10-16T17:52:04.044177Z",
     "iopub.status.idle": "2021-10-16T17:52:04.051647Z",
     "shell.execute_reply": "2021-10-16T17:52:04.052185Z",
     "shell.execute_reply.started": "2021-10-16T17:21:54.891355Z"
    },
    "papermill": {
     "duration": 0.087656,
     "end_time": "2021-10-16T17:52:04.052397",
     "exception": false,
     "start_time": "2021-10-16T17:52:03.964741",
     "status": "completed"
    },
    "tags": []
   },
   "outputs": [],
   "source": [
    "df[\"experience\"]= df[\"experience\"].astype(\"int64\")"
   ]
  },
  {
   "cell_type": "code",
   "execution_count": 29,
   "id": "89cee965",
   "metadata": {
    "execution": {
     "iopub.execute_input": "2021-10-16T17:52:04.203204Z",
     "iopub.status.busy": "2021-10-16T17:52:04.202476Z",
     "iopub.status.idle": "2021-10-16T17:52:05.297522Z",
     "shell.execute_reply": "2021-10-16T17:52:05.296958Z",
     "shell.execute_reply.started": "2021-10-16T17:21:54.903433Z"
    },
    "papermill": {
     "duration": 1.171451,
     "end_time": "2021-10-16T17:52:05.297707",
     "exception": false,
     "start_time": "2021-10-16T17:52:04.126256",
     "status": "completed"
    },
    "tags": []
   },
   "outputs": [
    {
     "name": "stderr",
     "output_type": "stream",
     "text": [
      "C:\\ProgramData\\Anaconda3\\lib\\site-packages\\seaborn\\categorical.py:3714: UserWarning: The `factorplot` function has been renamed to `catplot`. The original name will be removed in a future release. Please update your code. Note that the default `kind` in `factorplot` (`'point'`) has changed `'strip'` in `catplot`.\n",
      "  warnings.warn(msg)\n",
      "C:\\ProgramData\\Anaconda3\\lib\\site-packages\\seaborn\\_decorators.py:36: FutureWarning: Pass the following variable as a keyword arg: x. From version 0.12, the only valid positional argument will be `data`, and passing other arguments without an explicit keyword will result in an error or misinterpretation.\n",
      "  warnings.warn(\n"
     ]
    },
    {
     "data": {
      "image/png": "[encoded data removed]",
      "text/plain": [
       "<Figure size 770x360 with 1 Axes>"
      ]
     },
     "metadata": {},
     "output_type": "display_data"
    }
   ],
   "source": [
    "def exp(x):\n",
    "    if  (x['experience'])  >= 1 and (x['experience'])  <= 5 :\n",
    "        return 1\n",
    "    elif  (x['experience'])  >= 6 and (x['experience'])  <= 10 :\n",
    "        return 2\n",
    "    elif  (x['experience'])  >= 11 and (x['experience'])  <= 15 :\n",
    "        return 3\n",
    "    else :\n",
    "        return 4\n",
    "\n",
    "df['exp'] = df.apply(exp, axis = 1)\n",
    "\n",
    "with sns.axes_style('white'):\n",
    "    rel_exp = sns.factorplot(\"exp\", data=df, aspect=2.0, kind='count',\n",
    "                       hue='target',palette = 'turbo')"
   ]
  },
  {
   "cell_type": "markdown",
   "id": "5122854d",
   "metadata": {
    "papermill": {
     "duration": 0.074213,
     "end_time": "2021-10-16T17:52:05.447409",
     "exception": false,
     "start_time": "2021-10-16T17:52:05.373196",
     "status": "completed"
    },
    "tags": []
   },
   "source": [
    "* According to the analysis, those who are having less experience are more vulnerable to switch their job, rather than those who are having more experience."
   ]
  },
  {
   "cell_type": "code",
   "execution_count": 30,
   "id": "61f02473",
   "metadata": {
    "execution": {
     "iopub.execute_input": "2021-10-16T17:52:05.602026Z",
     "iopub.status.busy": "2021-10-16T17:52:05.601358Z",
     "iopub.status.idle": "2021-10-16T17:52:05.606761Z",
     "shell.execute_reply": "2021-10-16T17:52:05.606234Z",
     "shell.execute_reply.started": "2021-10-16T17:21:55.966185Z"
    },
    "papermill": {
     "duration": 0.086146,
     "end_time": "2021-10-16T17:52:05.606916",
     "exception": false,
     "start_time": "2021-10-16T17:52:05.520770",
     "status": "completed"
    },
    "tags": []
   },
   "outputs": [],
   "source": [
    "df.drop(['experience'],axis=1,inplace=True)\n",
    "df.drop(['exp'],axis=1,inplace=True)"
   ]
  },
  {
   "cell_type": "markdown",
   "id": "9bf2f4ff",
   "metadata": {
    "execution": {
     "iopub.execute_input": "2021-10-15T14:31:39.439509Z",
     "iopub.status.busy": "2021-10-15T14:31:39.438985Z",
     "iopub.status.idle": "2021-10-15T14:31:39.446027Z",
     "shell.execute_reply": "2021-10-15T14:31:39.445331Z",
     "shell.execute_reply.started": "2021-10-15T14:31:39.439467Z"
    },
    "papermill": {
     "duration": 0.07314,
     "end_time": "2021-10-16T17:52:05.754105",
     "exception": false,
     "start_time": "2021-10-16T17:52:05.680965",
     "status": "completed"
    },
    "tags": []
   },
   "source": [
    "#### h) company_type"
   ]
  },
  {
   "cell_type": "code",
   "execution_count": 31,
   "id": "45730852",
   "metadata": {
    "execution": {
     "iopub.execute_input": "2021-10-16T17:52:05.908354Z",
     "iopub.status.busy": "2021-10-16T17:52:05.907317Z",
     "iopub.status.idle": "2021-10-16T17:52:05.916413Z",
     "shell.execute_reply": "2021-10-16T17:52:05.916954Z",
     "shell.execute_reply.started": "2021-10-16T17:21:55.976666Z"
    },
    "papermill": {
     "duration": 0.088664,
     "end_time": "2021-10-16T17:52:05.917157",
     "exception": false,
     "start_time": "2021-10-16T17:52:05.828493",
     "status": "completed"
    },
    "tags": []
   },
   "outputs": [
    {
     "data": {
      "text/plain": [
       "Pvt Ltd                9817\n",
       "Funded Startup         1001\n",
       "Public Sector           955\n",
       "Early Stage Startup     603\n",
       "NGO                     521\n",
       "Other                   121\n",
       "Name: company_type, dtype: int64"
      ]
     },
     "execution_count": 31,
     "metadata": {},
     "output_type": "execute_result"
    }
   ],
   "source": [
    "df[\"company_type\"].value_counts()"
   ]
  },
  {
   "cell_type": "code",
   "execution_count": 32,
   "id": "93da1080",
   "metadata": {
    "execution": {
     "iopub.execute_input": "2021-10-16T17:52:06.074853Z",
     "iopub.status.busy": "2021-10-16T17:52:06.073781Z",
     "iopub.status.idle": "2021-10-16T17:52:06.652623Z",
     "shell.execute_reply": "2021-10-16T17:52:06.651794Z",
     "shell.execute_reply.started": "2021-10-16T17:21:55.991239Z"
    },
    "papermill": {
     "duration": 0.660193,
     "end_time": "2021-10-16T17:52:06.652883",
     "exception": false,
     "start_time": "2021-10-16T17:52:05.992690",
     "status": "completed"
    },
    "tags": []
   },
   "outputs": [
    {
     "name": "stderr",
     "output_type": "stream",
     "text": [
      "C:\\ProgramData\\Anaconda3\\lib\\site-packages\\seaborn\\categorical.py:3714: UserWarning: The `factorplot` function has been renamed to `catplot`. The original name will be removed in a future release. Please update your code. Note that the default `kind` in `factorplot` (`'point'`) has changed `'strip'` in `catplot`.\n",
      "  warnings.warn(msg)\n",
      "C:\\ProgramData\\Anaconda3\\lib\\site-packages\\seaborn\\_decorators.py:36: FutureWarning: Pass the following variable as a keyword arg: x. From version 0.12, the only valid positional argument will be `data`, and passing other arguments without an explicit keyword will result in an error or misinterpretation.\n",
      "  warnings.warn(\n"
     ]
    },
    {
     "data": {
      "image/png": "[encoded data removed]",
      "text/plain": [
       "<Figure size 770x360 with 1 Axes>"
      ]
     },
     "metadata": {},
     "output_type": "display_data"
    }
   ],
   "source": [
    "with sns.axes_style('white'):\n",
    "    c_type = sns.factorplot(\"company_type\", data=df, aspect=2.0, kind='count',\n",
    "                       hue='target',palette = 'YlOrBr')"
   ]
  },
  {
   "cell_type": "markdown",
   "id": "4ba96b4f",
   "metadata": {
    "papermill": {
     "duration": 0.07613,
     "end_time": "2021-10-16T17:52:06.804885",
     "exception": false,
     "start_time": "2021-10-16T17:52:06.728755",
     "status": "completed"
    },
    "tags": []
   },
   "source": [
    "* People who are working in private companies have lesser possibility of changing their job."
   ]
  },
  {
   "cell_type": "code",
   "execution_count": 33,
   "id": "f8e01c58",
   "metadata": {
    "execution": {
     "iopub.execute_input": "2021-10-16T17:52:06.972563Z",
     "iopub.status.busy": "2021-10-16T17:52:06.971795Z",
     "iopub.status.idle": "2021-10-16T17:52:06.980152Z",
     "shell.execute_reply": "2021-10-16T17:52:06.980678Z",
     "shell.execute_reply.started": "2021-10-16T17:21:56.487991Z"
    },
    "papermill": {
     "duration": 0.097157,
     "end_time": "2021-10-16T17:52:06.980918",
     "exception": false,
     "start_time": "2021-10-16T17:52:06.883761",
     "status": "completed"
    },
    "tags": []
   },
   "outputs": [],
   "source": [
    "df[\"company_type\"].fillna(\"Pvt Ltd\", inplace = True)\n",
    "c_type = pd.get_dummies(df['company_type'])\n",
    "df.drop(['company_type'],axis=1,inplace=True)\n",
    "df = pd.concat([df,c_type],axis=1)\n",
    "\n",
    "df.drop(['Funded Startup','Early Stage Startup','NGO','Other'],axis=1,inplace=True)"
   ]
  },
  {
   "cell_type": "markdown",
   "id": "edff515e",
   "metadata": {
    "execution": {
     "iopub.execute_input": "2021-10-15T14:31:40.109778Z",
     "iopub.status.busy": "2021-10-15T14:31:40.109539Z",
     "iopub.status.idle": "2021-10-15T14:31:40.115305Z",
     "shell.execute_reply": "2021-10-15T14:31:40.114465Z",
     "shell.execute_reply.started": "2021-10-15T14:31:40.109751Z"
    },
    "papermill": {
     "duration": 0.076661,
     "end_time": "2021-10-16T17:52:07.136478",
     "exception": false,
     "start_time": "2021-10-16T17:52:07.059817",
     "status": "completed"
    },
    "tags": []
   },
   "source": [
    "#### i) training_hours"
   ]
  },
  {
   "cell_type": "code",
   "execution_count": 34,
   "id": "14099ab5",
   "metadata": {
    "execution": {
     "iopub.execute_input": "2021-10-16T17:52:07.292437Z",
     "iopub.status.busy": "2021-10-16T17:52:07.291636Z",
     "iopub.status.idle": "2021-10-16T17:52:07.714160Z",
     "shell.execute_reply": "2021-10-16T17:52:07.713529Z",
     "shell.execute_reply.started": "2021-10-16T17:21:56.503592Z"
    },
    "papermill": {
     "duration": 0.50179,
     "end_time": "2021-10-16T17:52:07.714324",
     "exception": false,
     "start_time": "2021-10-16T17:52:07.212534",
     "status": "completed"
    },
    "tags": []
   },
   "outputs": [
    {
     "data": {
      "text/plain": [
       "<AxesSubplot:xlabel='training_hours', ylabel='Density'>"
      ]
     },
     "execution_count": 34,
     "metadata": {},
     "output_type": "execute_result"
    },
    {
     "data": {
      "image/png": "[encoded data removed]",
      "text/plain": [
       "<Figure size 504x360 with 1 Axes>"
      ]
     },
     "metadata": {
      "needs_background": "light"
     },
     "output_type": "display_data"
    }
   ],
   "source": [
    "plt.figure(figsize=(7,5))\n",
    "sns.kdeplot(data=df, x=\"training_hours\",hue='target',cut=0,palette='dark')"
   ]
  },
  {
   "cell_type": "markdown",
   "id": "5c9661ef",
   "metadata": {
    "papermill": {
     "duration": 0.076875,
     "end_time": "2021-10-16T17:52:07.868507",
     "exception": false,
     "start_time": "2021-10-16T17:52:07.791632",
     "status": "completed"
    },
    "tags": []
   },
   "source": [
    "* From this graph, we can observe that employees with less training hours had a decreased likelihood of changing employment."
   ]
  },
  {
   "cell_type": "markdown",
   "id": "fbdfbfda",
   "metadata": {
    "papermill": {
     "duration": 0.078414,
     "end_time": "2021-10-16T17:52:08.024065",
     "exception": false,
     "start_time": "2021-10-16T17:52:07.945651",
     "status": "completed"
    },
    "tags": []
   },
   "source": [
    "#### Data after treatment of missing values and encoding"
   ]
  },
  {
   "cell_type": "code",
   "execution_count": 35,
   "id": "8704173f",
   "metadata": {
    "execution": {
     "iopub.execute_input": "2021-10-16T17:52:08.183386Z",
     "iopub.status.busy": "2021-10-16T17:52:08.182720Z",
     "iopub.status.idle": "2021-10-16T17:52:08.197690Z",
     "shell.execute_reply": "2021-10-16T17:52:08.197154Z",
     "shell.execute_reply.started": "2021-10-16T17:21:56.929604Z"
    },
    "papermill": {
     "duration": 0.095379,
     "end_time": "2021-10-16T17:52:08.197855",
     "exception": false,
     "start_time": "2021-10-16T17:52:08.102476",
     "status": "completed"
    },
    "tags": []
   },
   "outputs": [
    {
     "data": {
      "text/html": [
       "<div>\n",
       "<style scoped>\n",
       "    .dataframe tbody tr th:only-of-type {\n",
       "        vertical-align: middle;\n",
       "    }\n",
       "\n",
       "    .dataframe tbody tr th {\n",
       "        vertical-align: top;\n",
       "    }\n",
       "\n",
       "    .dataframe thead th {\n",
       "        text-align: right;\n",
       "    }\n",
       "</style>\n",
       "<table border=\"1\" class=\"dataframe\">\n",
       "  <thead>\n",
       "    <tr style=\"text-align: right;\">\n",
       "      <th></th>\n",
       "      <th>city_development_index</th>\n",
       "      <th>training_hours</th>\n",
       "      <th>target</th>\n",
       "      <th>Female</th>\n",
       "      <th>Male</th>\n",
       "      <th>Has relevent experience</th>\n",
       "      <th>Full time course</th>\n",
       "      <th>no_enrollment</th>\n",
       "      <th>Graduate</th>\n",
       "      <th>High School</th>\n",
       "      <th>Masters</th>\n",
       "      <th>STEM</th>\n",
       "      <th>Public Sector</th>\n",
       "      <th>Pvt Ltd</th>\n",
       "    </tr>\n",
       "  </thead>\n",
       "  <tbody>\n",
       "    <tr>\n",
       "      <th>0</th>\n",
       "      <td>0.920</td>\n",
       "      <td>36</td>\n",
       "      <td>1.0</td>\n",
       "      <td>0</td>\n",
       "      <td>1</td>\n",
       "      <td>1</td>\n",
       "      <td>0</td>\n",
       "      <td>1</td>\n",
       "      <td>1</td>\n",
       "      <td>0</td>\n",
       "      <td>0</td>\n",
       "      <td>1</td>\n",
       "      <td>0</td>\n",
       "      <td>1</td>\n",
       "    </tr>\n",
       "    <tr>\n",
       "      <th>1</th>\n",
       "      <td>0.776</td>\n",
       "      <td>47</td>\n",
       "      <td>0.0</td>\n",
       "      <td>0</td>\n",
       "      <td>1</td>\n",
       "      <td>0</td>\n",
       "      <td>0</td>\n",
       "      <td>1</td>\n",
       "      <td>1</td>\n",
       "      <td>0</td>\n",
       "      <td>0</td>\n",
       "      <td>1</td>\n",
       "      <td>0</td>\n",
       "      <td>1</td>\n",
       "    </tr>\n",
       "    <tr>\n",
       "      <th>2</th>\n",
       "      <td>0.624</td>\n",
       "      <td>83</td>\n",
       "      <td>0.0</td>\n",
       "      <td>0</td>\n",
       "      <td>1</td>\n",
       "      <td>0</td>\n",
       "      <td>1</td>\n",
       "      <td>0</td>\n",
       "      <td>1</td>\n",
       "      <td>0</td>\n",
       "      <td>0</td>\n",
       "      <td>1</td>\n",
       "      <td>0</td>\n",
       "      <td>1</td>\n",
       "    </tr>\n",
       "    <tr>\n",
       "      <th>3</th>\n",
       "      <td>0.789</td>\n",
       "      <td>52</td>\n",
       "      <td>1.0</td>\n",
       "      <td>0</td>\n",
       "      <td>1</td>\n",
       "      <td>0</td>\n",
       "      <td>0</td>\n",
       "      <td>1</td>\n",
       "      <td>1</td>\n",
       "      <td>0</td>\n",
       "      <td>0</td>\n",
       "      <td>0</td>\n",
       "      <td>0</td>\n",
       "      <td>1</td>\n",
       "    </tr>\n",
       "    <tr>\n",
       "      <th>4</th>\n",
       "      <td>0.767</td>\n",
       "      <td>8</td>\n",
       "      <td>0.0</td>\n",
       "      <td>0</td>\n",
       "      <td>1</td>\n",
       "      <td>1</td>\n",
       "      <td>0</td>\n",
       "      <td>1</td>\n",
       "      <td>0</td>\n",
       "      <td>0</td>\n",
       "      <td>1</td>\n",
       "      <td>1</td>\n",
       "      <td>0</td>\n",
       "      <td>0</td>\n",
       "    </tr>\n",
       "  </tbody>\n",
       "</table>\n",
       "</div>"
      ],
      "text/plain": [
       "   city_development_index  training_hours  target  Female  Male  \\\n",
       "0                   0.920              36     1.0       0     1   \n",
       "1                   0.776              47     0.0       0     1   \n",
       "2                   0.624              83     0.0       0     1   \n",
       "3                   0.789              52     1.0       0     1   \n",
       "4                   0.767               8     0.0       0     1   \n",
       "\n",
       "   Has relevent experience  Full time course  no_enrollment  Graduate  \\\n",
       "0                        1                 0              1         1   \n",
       "1                        0                 0              1         1   \n",
       "2                        0                 1              0         1   \n",
       "3                        0                 0              1         1   \n",
       "4                        1                 0              1         0   \n",
       "\n",
       "   High School  Masters  STEM  Public Sector  Pvt Ltd  \n",
       "0            0        0     1              0        1  \n",
       "1            0        0     1              0        1  \n",
       "2            0        0     1              0        1  \n",
       "3            0        0     0              0        1  \n",
       "4            0        1     1              0        0  "
      ]
     },
     "execution_count": 35,
     "metadata": {},
     "output_type": "execute_result"
    }
   ],
   "source": [
    "df.head()"
   ]
  },
  {
   "cell_type": "code",
   "execution_count": 36,
   "id": "6da310f9",
   "metadata": {
    "execution": {
     "iopub.execute_input": "2021-10-16T17:52:08.357892Z",
     "iopub.status.busy": "2021-10-16T17:52:08.356914Z",
     "iopub.status.idle": "2021-10-16T17:52:08.367285Z",
     "shell.execute_reply": "2021-10-16T17:52:08.366770Z",
     "shell.execute_reply.started": "2021-10-16T17:21:56.948541Z"
    },
    "papermill": {
     "duration": 0.091608,
     "end_time": "2021-10-16T17:52:08.367458",
     "exception": false,
     "start_time": "2021-10-16T17:52:08.275850",
     "status": "completed"
    },
    "tags": []
   },
   "outputs": [
    {
     "data": {
      "text/plain": [
       "city_development_index     0\n",
       "training_hours             0\n",
       "target                     0\n",
       "Female                     0\n",
       "Male                       0\n",
       "Has relevent experience    0\n",
       "Full time course           0\n",
       "no_enrollment              0\n",
       "Graduate                   0\n",
       "High School                0\n",
       "Masters                    0\n",
       "STEM                       0\n",
       "Public Sector              0\n",
       "Pvt Ltd                    0\n",
       "dtype: int64"
      ]
     },
     "execution_count": 36,
     "metadata": {},
     "output_type": "execute_result"
    }
   ],
   "source": [
    "df.isnull().sum()"
   ]
  },
  {
   "cell_type": "markdown",
   "id": "585d223e",
   "metadata": {
    "papermill": {
     "duration": 0.077747,
     "end_time": "2021-10-16T17:52:08.524152",
     "exception": false,
     "start_time": "2021-10-16T17:52:08.446405",
     "status": "completed"
    },
    "tags": []
   },
   "source": [
    "#### Rescaling the training_hours"
   ]
  },
  {
   "cell_type": "code",
   "execution_count": 37,
   "id": "273ad6a0",
   "metadata": {
    "execution": {
     "iopub.execute_input": "2021-10-16T17:52:08.684301Z",
     "iopub.status.busy": "2021-10-16T17:52:08.683656Z",
     "iopub.status.idle": "2021-10-16T17:52:08.689228Z",
     "shell.execute_reply": "2021-10-16T17:52:08.689723Z",
     "shell.execute_reply.started": "2021-10-16T17:21:56.958506Z"
    },
    "papermill": {
     "duration": 0.087968,
     "end_time": "2021-10-16T17:52:08.689942",
     "exception": false,
     "start_time": "2021-10-16T17:52:08.601974",
     "status": "completed"
    },
    "tags": []
   },
   "outputs": [],
   "source": [
    "from sklearn.preprocessing import MinMaxScaler\n",
    "df.training_hours = MinMaxScaler().fit_transform(np.array(df.training_hours).reshape(-1,1))"
   ]
  },
  {
   "cell_type": "code",
   "execution_count": 38,
   "id": "47e645dc",
   "metadata": {
    "execution": {
     "iopub.execute_input": "2021-10-16T17:52:08.851435Z",
     "iopub.status.busy": "2021-10-16T17:52:08.850724Z",
     "iopub.status.idle": "2021-10-16T17:52:08.864596Z",
     "shell.execute_reply": "2021-10-16T17:52:08.865132Z",
     "shell.execute_reply.started": "2021-10-16T17:21:56.966991Z"
    },
    "papermill": {
     "duration": 0.096197,
     "end_time": "2021-10-16T17:52:08.865342",
     "exception": false,
     "start_time": "2021-10-16T17:52:08.769145",
     "status": "completed"
    },
    "tags": []
   },
   "outputs": [
    {
     "data": {
      "text/html": [
       "<div>\n",
       "<style scoped>\n",
       "    .dataframe tbody tr th:only-of-type {\n",
       "        vertical-align: middle;\n",
       "    }\n",
       "\n",
       "    .dataframe tbody tr th {\n",
       "        vertical-align: top;\n",
       "    }\n",
       "\n",
       "    .dataframe thead th {\n",
       "        text-align: right;\n",
       "    }\n",
       "</style>\n",
       "<table border=\"1\" class=\"dataframe\">\n",
       "  <thead>\n",
       "    <tr style=\"text-align: right;\">\n",
       "      <th></th>\n",
       "      <th>city_development_index</th>\n",
       "      <th>training_hours</th>\n",
       "      <th>target</th>\n",
       "      <th>Female</th>\n",
       "      <th>Male</th>\n",
       "      <th>Has relevent experience</th>\n",
       "      <th>Full time course</th>\n",
       "      <th>no_enrollment</th>\n",
       "      <th>Graduate</th>\n",
       "      <th>High School</th>\n",
       "      <th>Masters</th>\n",
       "      <th>STEM</th>\n",
       "      <th>Public Sector</th>\n",
       "      <th>Pvt Ltd</th>\n",
       "    </tr>\n",
       "  </thead>\n",
       "  <tbody>\n",
       "    <tr>\n",
       "      <th>0</th>\n",
       "      <td>0.920</td>\n",
       "      <td>0.104478</td>\n",
       "      <td>1.0</td>\n",
       "      <td>0</td>\n",
       "      <td>1</td>\n",
       "      <td>1</td>\n",
       "      <td>0</td>\n",
       "      <td>1</td>\n",
       "      <td>1</td>\n",
       "      <td>0</td>\n",
       "      <td>0</td>\n",
       "      <td>1</td>\n",
       "      <td>0</td>\n",
       "      <td>1</td>\n",
       "    </tr>\n",
       "    <tr>\n",
       "      <th>1</th>\n",
       "      <td>0.776</td>\n",
       "      <td>0.137313</td>\n",
       "      <td>0.0</td>\n",
       "      <td>0</td>\n",
       "      <td>1</td>\n",
       "      <td>0</td>\n",
       "      <td>0</td>\n",
       "      <td>1</td>\n",
       "      <td>1</td>\n",
       "      <td>0</td>\n",
       "      <td>0</td>\n",
       "      <td>1</td>\n",
       "      <td>0</td>\n",
       "      <td>1</td>\n",
       "    </tr>\n",
       "    <tr>\n",
       "      <th>2</th>\n",
       "      <td>0.624</td>\n",
       "      <td>0.244776</td>\n",
       "      <td>0.0</td>\n",
       "      <td>0</td>\n",
       "      <td>1</td>\n",
       "      <td>0</td>\n",
       "      <td>1</td>\n",
       "      <td>0</td>\n",
       "      <td>1</td>\n",
       "      <td>0</td>\n",
       "      <td>0</td>\n",
       "      <td>1</td>\n",
       "      <td>0</td>\n",
       "      <td>1</td>\n",
       "    </tr>\n",
       "    <tr>\n",
       "      <th>3</th>\n",
       "      <td>0.789</td>\n",
       "      <td>0.152239</td>\n",
       "      <td>1.0</td>\n",
       "      <td>0</td>\n",
       "      <td>1</td>\n",
       "      <td>0</td>\n",
       "      <td>0</td>\n",
       "      <td>1</td>\n",
       "      <td>1</td>\n",
       "      <td>0</td>\n",
       "      <td>0</td>\n",
       "      <td>0</td>\n",
       "      <td>0</td>\n",
       "      <td>1</td>\n",
       "    </tr>\n",
       "    <tr>\n",
       "      <th>4</th>\n",
       "      <td>0.767</td>\n",
       "      <td>0.020896</td>\n",
       "      <td>0.0</td>\n",
       "      <td>0</td>\n",
       "      <td>1</td>\n",
       "      <td>1</td>\n",
       "      <td>0</td>\n",
       "      <td>1</td>\n",
       "      <td>0</td>\n",
       "      <td>0</td>\n",
       "      <td>1</td>\n",
       "      <td>1</td>\n",
       "      <td>0</td>\n",
       "      <td>0</td>\n",
       "    </tr>\n",
       "  </tbody>\n",
       "</table>\n",
       "</div>"
      ],
      "text/plain": [
       "   city_development_index  training_hours  target  Female  Male  \\\n",
       "0                   0.920        0.104478     1.0       0     1   \n",
       "1                   0.776        0.137313     0.0       0     1   \n",
       "2                   0.624        0.244776     0.0       0     1   \n",
       "3                   0.789        0.152239     1.0       0     1   \n",
       "4                   0.767        0.020896     0.0       0     1   \n",
       "\n",
       "   Has relevent experience  Full time course  no_enrollment  Graduate  \\\n",
       "0                        1                 0              1         1   \n",
       "1                        0                 0              1         1   \n",
       "2                        0                 1              0         1   \n",
       "3                        0                 0              1         1   \n",
       "4                        1                 0              1         0   \n",
       "\n",
       "   High School  Masters  STEM  Public Sector  Pvt Ltd  \n",
       "0            0        0     1              0        1  \n",
       "1            0        0     1              0        1  \n",
       "2            0        0     1              0        1  \n",
       "3            0        0     0              0        1  \n",
       "4            0        1     1              0        0  "
      ]
     },
     "execution_count": 38,
     "metadata": {},
     "output_type": "execute_result"
    }
   ],
   "source": [
    "df.head()"
   ]
  },
  {
   "cell_type": "code",
   "execution_count": 39,
   "id": "43f2ee3e",
   "metadata": {
    "execution": {
     "iopub.execute_input": "2021-10-16T17:52:09.029715Z",
     "iopub.status.busy": "2021-10-16T17:52:09.027168Z",
     "iopub.status.idle": "2021-10-16T17:52:09.033339Z",
     "shell.execute_reply": "2021-10-16T17:52:09.033900Z",
     "shell.execute_reply.started": "2021-10-16T17:21:56.987251Z"
    },
    "papermill": {
     "duration": 0.089563,
     "end_time": "2021-10-16T17:52:09.034093",
     "exception": false,
     "start_time": "2021-10-16T17:52:08.944530",
     "status": "completed"
    },
    "tags": []
   },
   "outputs": [
    {
     "data": {
      "text/plain": [
       "(19158, 14)"
      ]
     },
     "execution_count": 39,
     "metadata": {},
     "output_type": "execute_result"
    }
   ],
   "source": [
    "df.shape"
   ]
  },
  {
   "cell_type": "markdown",
   "id": "a6c9c85c",
   "metadata": {
    "execution": {
     "iopub.execute_input": "2021-10-15T16:23:54.83053Z",
     "iopub.status.busy": "2021-10-15T16:23:54.830336Z",
     "iopub.status.idle": "2021-10-15T16:23:54.839722Z",
     "shell.execute_reply": "2021-10-15T16:23:54.838955Z",
     "shell.execute_reply.started": "2021-10-15T16:23:54.830504Z"
    },
    "papermill": {
     "duration": 0.077886,
     "end_time": "2021-10-16T17:52:09.190149",
     "exception": false,
     "start_time": "2021-10-16T17:52:09.112263",
     "status": "completed"
    },
    "tags": []
   },
   "source": [
    "## Imbalanced data"
   ]
  },
  {
   "cell_type": "code",
   "execution_count": 40,
   "id": "dd12a2d3",
   "metadata": {
    "execution": {
     "iopub.execute_input": "2021-10-16T17:52:09.407527Z",
     "iopub.status.busy": "2021-10-16T17:52:09.401264Z",
     "iopub.status.idle": "2021-10-16T17:52:09.410646Z",
     "shell.execute_reply": "2021-10-16T17:52:09.411155Z",
     "shell.execute_reply.started": "2021-10-16T17:21:56.997330Z"
    },
    "papermill": {
     "duration": 0.142924,
     "end_time": "2021-10-16T17:52:09.411324",
     "exception": false,
     "start_time": "2021-10-16T17:52:09.268400",
     "status": "completed"
    },
    "tags": []
   },
   "outputs": [
    {
     "data": {
      "text/plain": [
       "0.0    14381\n",
       "1.0     4777\n",
       "Name: target, dtype: int64"
      ]
     },
     "execution_count": 40,
     "metadata": {},
     "output_type": "execute_result"
    }
   ],
   "source": [
    "df['target'].value_counts()"
   ]
  },
  {
   "cell_type": "code",
   "execution_count": 41,
   "id": "cb859710",
   "metadata": {
    "execution": {
     "iopub.execute_input": "2021-10-16T17:52:09.575287Z",
     "iopub.status.busy": "2021-10-16T17:52:09.573162Z",
     "iopub.status.idle": "2021-10-16T17:52:09.770423Z",
     "shell.execute_reply": "2021-10-16T17:52:09.769760Z",
     "shell.execute_reply.started": "2021-10-16T17:21:57.013329Z"
    },
    "papermill": {
     "duration": 0.280193,
     "end_time": "2021-10-16T17:52:09.770599",
     "exception": false,
     "start_time": "2021-10-16T17:52:09.490406",
     "status": "completed"
    },
    "tags": []
   },
   "outputs": [
    {
     "name": "stderr",
     "output_type": "stream",
     "text": [
      "C:\\ProgramData\\Anaconda3\\lib\\site-packages\\seaborn\\_decorators.py:36: FutureWarning: Pass the following variable as a keyword arg: x. From version 0.12, the only valid positional argument will be `data`, and passing other arguments without an explicit keyword will result in an error or misinterpretation.\n",
      "  warnings.warn(\n"
     ]
    },
    {
     "data": {
      "text/plain": [
       "(array([0, 1]), [Text(0, 0, '0.0'), Text(1, 0, '1.0')])"
      ]
     },
     "execution_count": 41,
     "metadata": {},
     "output_type": "execute_result"
    },
    {
     "data": {
      "image/png": "[encoded data removed]",
      "text/plain": [
       "<Figure size 504x360 with 1 Axes>"
      ]
     },
     "metadata": {
      "needs_background": "light"
     },
     "output_type": "display_data"
    }
   ],
   "source": [
    "plt.figure(figsize=(7,5))\n",
    "ax=sns.countplot(df.target)\n",
    "plt.xticks(rotation=0)"
   ]
  },
  {
   "cell_type": "markdown",
   "id": "0f55a677",
   "metadata": {
    "papermill": {
     "duration": 0.08061,
     "end_time": "2021-10-16T17:52:09.931922",
     "exception": false,
     "start_time": "2021-10-16T17:52:09.851312",
     "status": "completed"
    },
    "tags": []
   },
   "source": [
    "* Here it is clearly visible that the data is highly imbalanced. In order to train the model properly, we need to balance and for the same we use **SMOTE** (Synthetic Minority Oversampling Technique) to balance the data."
   ]
  },
  {
   "cell_type": "code",
   "execution_count": 42,
   "id": "eda0fb39",
   "metadata": {
    "execution": {
     "iopub.execute_input": "2021-10-16T17:52:10.102913Z",
     "iopub.status.busy": "2021-10-16T17:52:10.102205Z",
     "iopub.status.idle": "2021-10-16T17:52:10.104773Z",
     "shell.execute_reply": "2021-10-16T17:52:10.105290Z",
     "shell.execute_reply.started": "2021-10-16T17:21:57.210747Z"
    },
    "papermill": {
     "duration": 0.092299,
     "end_time": "2021-10-16T17:52:10.105470",
     "exception": false,
     "start_time": "2021-10-16T17:52:10.013171",
     "status": "completed"
    },
    "tags": []
   },
   "outputs": [],
   "source": [
    "y = df['target']\n",
    "features_col = ['city_development_index', 'training_hours',\n",
    "       'Female', 'Male', 'Has relevent experience', 'Full time course',\n",
    "       'no_enrollment', 'Graduate', 'High School', 'Masters', 'STEM', 'Public Sector', 'Pvt Ltd']\n",
    "X = df[features_col]"
   ]
  },
  {
   "cell_type": "code",
   "execution_count": 43,
   "id": "685601a5",
   "metadata": {
    "execution": {
     "iopub.execute_input": "2021-10-16T17:52:10.273361Z",
     "iopub.status.busy": "2021-10-16T17:52:10.271142Z",
     "iopub.status.idle": "2021-10-16T17:52:10.296260Z",
     "shell.execute_reply": "2021-10-16T17:52:10.295724Z",
     "shell.execute_reply.started": "2021-10-16T17:21:57.217873Z"
    },
    "papermill": {
     "duration": 0.109973,
     "end_time": "2021-10-16T17:52:10.296420",
     "exception": false,
     "start_time": "2021-10-16T17:52:10.186447",
     "status": "completed"
    },
    "tags": []
   },
   "outputs": [],
   "source": [
    "from sklearn.model_selection import train_test_split\n",
    "train_X, test_X, train_y, test_y = train_test_split(X, y,stratify=y, \n",
    "                                                    test_size=0.30,random_state = 0)"
   ]
  },
  {
   "cell_type": "code",
   "execution_count": 44,
   "id": "28338d56",
   "metadata": {
    "execution": {
     "iopub.execute_input": "2021-10-16T17:52:10.464159Z",
     "iopub.status.busy": "2021-10-16T17:52:10.463436Z",
     "iopub.status.idle": "2021-10-16T17:52:10.855038Z",
     "shell.execute_reply": "2021-10-16T17:52:10.854389Z",
     "shell.execute_reply.started": "2021-10-16T17:21:57.248898Z"
    },
    "papermill": {
     "duration": 0.476869,
     "end_time": "2021-10-16T17:52:10.855202",
     "exception": false,
     "start_time": "2021-10-16T17:52:10.378333",
     "status": "completed"
    },
    "tags": []
   },
   "outputs": [],
   "source": [
    "smote = SMOTE()\n",
    "\n",
    "# fit predictor and target variable\n",
    "X_smote, y_smote = smote.fit_resample(X, y)"
   ]
  },
  {
   "cell_type": "code",
   "execution_count": 45,
   "id": "865cb3e6",
   "metadata": {
    "execution": {
     "iopub.execute_input": "2021-10-16T17:52:11.023399Z",
     "iopub.status.busy": "2021-10-16T17:52:11.022440Z",
     "iopub.status.idle": "2021-10-16T17:52:11.031819Z",
     "shell.execute_reply": "2021-10-16T17:52:11.031299Z",
     "shell.execute_reply.started": "2021-10-16T17:21:57.635685Z"
    },
    "papermill": {
     "duration": 0.095181,
     "end_time": "2021-10-16T17:52:11.031993",
     "exception": false,
     "start_time": "2021-10-16T17:52:10.936812",
     "status": "completed"
    },
    "tags": []
   },
   "outputs": [
    {
     "data": {
      "text/plain": [
       "0.0    14381\n",
       "1.0    14381\n",
       "Name: target, dtype: int64"
      ]
     },
     "execution_count": 45,
     "metadata": {},
     "output_type": "execute_result"
    }
   ],
   "source": [
    "y_smote.value_counts()"
   ]
  },
  {
   "cell_type": "code",
   "execution_count": 46,
   "id": "818dcee7",
   "metadata": {
    "execution": {
     "iopub.execute_input": "2021-10-16T17:52:11.201377Z",
     "iopub.status.busy": "2021-10-16T17:52:11.200628Z",
     "iopub.status.idle": "2021-10-16T17:52:11.203850Z",
     "shell.execute_reply": "2021-10-16T17:52:11.204325Z",
     "shell.execute_reply.started": "2021-10-16T17:21:57.645554Z"
    },
    "papermill": {
     "duration": 0.090289,
     "end_time": "2021-10-16T17:52:11.204523",
     "exception": false,
     "start_time": "2021-10-16T17:52:11.114234",
     "status": "completed"
    },
    "tags": []
   },
   "outputs": [
    {
     "data": {
      "text/plain": [
       "(28762, 13)"
      ]
     },
     "execution_count": 46,
     "metadata": {},
     "output_type": "execute_result"
    }
   ],
   "source": [
    "X_smote.shape"
   ]
  },
  {
   "cell_type": "markdown",
   "id": "a0c27973",
   "metadata": {
    "execution": {
     "iopub.execute_input": "2021-10-15T16:23:55.386272Z",
     "iopub.status.busy": "2021-10-15T16:23:55.385832Z",
     "iopub.status.idle": "2021-10-15T16:23:55.403438Z",
     "shell.execute_reply": "2021-10-15T16:23:55.402566Z",
     "shell.execute_reply.started": "2021-10-15T16:23:55.386243Z"
    },
    "papermill": {
     "duration": 0.080912,
     "end_time": "2021-10-16T17:52:11.368590",
     "exception": false,
     "start_time": "2021-10-16T17:52:11.287678",
     "status": "completed"
    },
    "tags": []
   },
   "source": [
    "## Buliding Models"
   ]
  },
  {
   "cell_type": "markdown",
   "id": "d7bc8629",
   "metadata": {
    "papermill": {
     "duration": 0.081673,
     "end_time": "2021-10-16T17:52:11.531593",
     "exception": false,
     "start_time": "2021-10-16T17:52:11.449920",
     "status": "completed"
    },
    "tags": []
   },
   "source": [
    "* For Gradient Boosting Classifier, we used scikit-learn library (written as sklearn in coding) and xgboost for XGBoost Classifier.\n",
    "* For our analysis, we are using two modeling techniques and for both we are using **StratifiedKFold** cross validation to correctly represents the test folds for the minority class and to validate the same with StratifiedKFold for our techniques."
   ]
  },
  {
   "cell_type": "markdown",
   "id": "f22df778",
   "metadata": {
    "papermill": {
     "duration": 0.08365,
     "end_time": "2021-10-16T17:52:11.697683",
     "exception": false,
     "start_time": "2021-10-16T17:52:11.614033",
     "status": "completed"
    },
    "tags": []
   },
   "source": [
    "#### A) Gradient Boosting Model"
   ]
  },
  {
   "cell_type": "code",
   "execution_count": 47,
   "id": "b8fd1d4e",
   "metadata": {
    "execution": {
     "iopub.execute_input": "2021-10-16T17:52:11.872129Z",
     "iopub.status.busy": "2021-10-16T17:52:11.871061Z",
     "iopub.status.idle": "2021-10-16T17:52:21.396975Z",
     "shell.execute_reply": "2021-10-16T17:52:21.397440Z",
     "shell.execute_reply.started": "2021-10-16T17:21:57.656042Z"
    },
    "papermill": {
     "duration": 9.616292,
     "end_time": "2021-10-16T17:52:21.397649",
     "exception": false,
     "start_time": "2021-10-16T17:52:11.781357",
     "status": "completed"
    },
    "tags": []
   },
   "outputs": [
    {
     "data": {
      "text/plain": [
       "array([0.74847905, 0.75404137, 0.74704451, 0.75156467, 0.76216968])"
      ]
     },
     "execution_count": 47,
     "metadata": {},
     "output_type": "execute_result"
    }
   ],
   "source": [
    "from sklearn.ensemble import GradientBoostingClassifier\n",
    "gbc_model = GradientBoostingClassifier()\n",
    "folds = StratifiedKFold(n_splits = 5, shuffle = True, random_state = 100)\n",
    "scores = cross_val_score(gbc_model, X_smote, y_smote, scoring='accuracy', cv=folds)\n",
    "scores"
   ]
  },
  {
   "cell_type": "code",
   "execution_count": 48,
   "id": "a0268fb0",
   "metadata": {
    "execution": {
     "iopub.execute_input": "2021-10-16T17:52:21.566140Z",
     "iopub.status.busy": "2021-10-16T17:52:21.565207Z",
     "iopub.status.idle": "2021-10-16T17:52:21.569622Z",
     "shell.execute_reply": "2021-10-16T17:52:21.569031Z",
     "shell.execute_reply.started": "2021-10-16T17:22:06.707665Z"
    },
    "papermill": {
     "duration": 0.091375,
     "end_time": "2021-10-16T17:52:21.569784",
     "exception": false,
     "start_time": "2021-10-16T17:52:21.478409",
     "status": "completed"
    },
    "tags": []
   },
   "outputs": [
    {
     "data": {
      "text/plain": [
       "(75.26598567307327, 0.5339588278653704)"
      ]
     },
     "execution_count": 48,
     "metadata": {},
     "output_type": "execute_result"
    }
   ],
   "source": [
    "scores.mean()*100,scores.std()*100"
   ]
  },
  {
   "cell_type": "code",
   "execution_count": 49,
   "id": "f16baed1",
   "metadata": {
    "execution": {
     "iopub.execute_input": "2021-10-16T17:52:21.738785Z",
     "iopub.status.busy": "2021-10-16T17:52:21.736712Z",
     "iopub.status.idle": "2021-10-16T17:52:21.741626Z",
     "shell.execute_reply": "2021-10-16T17:52:21.741068Z",
     "shell.execute_reply.started": "2021-10-16T17:22:06.715641Z"
    },
    "papermill": {
     "duration": 0.090097,
     "end_time": "2021-10-16T17:52:21.741786",
     "exception": false,
     "start_time": "2021-10-16T17:52:21.651689",
     "status": "completed"
    },
    "tags": []
   },
   "outputs": [],
   "source": [
    "from sklearn.metrics import classification_report,confusion_matrix,ConfusionMatrixDisplay"
   ]
  },
  {
   "cell_type": "code",
   "execution_count": 50,
   "id": "89a4e83a",
   "metadata": {
    "execution": {
     "iopub.execute_input": "2021-10-16T17:52:21.911770Z",
     "iopub.status.busy": "2021-10-16T17:52:21.911067Z",
     "iopub.status.idle": "2021-10-16T17:52:23.249474Z",
     "shell.execute_reply": "2021-10-16T17:52:23.249979Z",
     "shell.execute_reply.started": "2021-10-16T17:22:06.726593Z"
    },
    "papermill": {
     "duration": 1.425585,
     "end_time": "2021-10-16T17:52:23.250172",
     "exception": false,
     "start_time": "2021-10-16T17:52:21.824587",
     "status": "completed"
    },
    "tags": []
   },
   "outputs": [
    {
     "data": {
      "text/plain": [
       "GradientBoostingClassifier()"
      ]
     },
     "execution_count": 50,
     "metadata": {},
     "output_type": "execute_result"
    }
   ],
   "source": [
    "from sklearn.ensemble import GradientBoostingClassifier\n",
    "# Define model\n",
    "gbc_model = GradientBoostingClassifier()\n",
    "# Fit model\n",
    "gbc_model.fit(X, y)"
   ]
  },
  {
   "cell_type": "code",
   "execution_count": 51,
   "id": "1290bc14",
   "metadata": {
    "execution": {
     "iopub.execute_input": "2021-10-16T17:52:23.418810Z",
     "iopub.status.busy": "2021-10-16T17:52:23.418146Z",
     "iopub.status.idle": "2021-10-16T17:52:23.446158Z",
     "shell.execute_reply": "2021-10-16T17:52:23.446753Z",
     "shell.execute_reply.started": "2021-10-16T17:22:08.011660Z"
    },
    "papermill": {
     "duration": 0.114682,
     "end_time": "2021-10-16T17:52:23.446942",
     "exception": false,
     "start_time": "2021-10-16T17:52:23.332260",
     "status": "completed"
    },
    "tags": []
   },
   "outputs": [
    {
     "name": "stdout",
     "output_type": "stream",
     "text": [
      "[[3887  428]\n",
      " [ 808  625]]\n"
     ]
    }
   ],
   "source": [
    "print(confusion_matrix(test_y,gbc_model.predict(test_X)))"
   ]
  },
  {
   "cell_type": "code",
   "execution_count": 52,
   "id": "d85baaaf",
   "metadata": {
    "execution": {
     "iopub.execute_input": "2021-10-16T17:52:23.614312Z",
     "iopub.status.busy": "2021-10-16T17:52:23.613678Z",
     "iopub.status.idle": "2021-10-16T17:52:23.902514Z",
     "shell.execute_reply": "2021-10-16T17:52:23.901955Z",
     "shell.execute_reply.started": "2021-10-16T17:22:08.040956Z"
    },
    "papermill": {
     "duration": 0.373901,
     "end_time": "2021-10-16T17:52:23.902681",
     "exception": false,
     "start_time": "2021-10-16T17:52:23.528780",
     "status": "completed"
    },
    "tags": []
   },
   "outputs": [
    {
     "data": {
      "text/plain": [
       "<sklearn.metrics._plot.confusion_matrix.ConfusionMatrixDisplay at 0x2689acf5460>"
      ]
     },
     "execution_count": 52,
     "metadata": {},
     "output_type": "execute_result"
    },
    {
     "data": {
      "image/png": "[encoded data removed]",
      "text/plain": [
       "<Figure size 432x288 with 2 Axes>"
      ]
     },
     "metadata": {
      "needs_background": "light"
     },
     "output_type": "display_data"
    }
   ],
   "source": [
    "cm=confusion_matrix(test_y,gbc_model.predict(test_X))\n",
    "gbc_display = ConfusionMatrixDisplay(confusion_matrix=cm,\n",
    "                               display_labels=gbc_model.classes_)\n",
    "gbc_display.plot()"
   ]
  },
  {
   "cell_type": "code",
   "execution_count": 53,
   "id": "a4c4eb87",
   "metadata": {
    "execution": {
     "iopub.execute_input": "2021-10-16T17:52:24.081415Z",
     "iopub.status.busy": "2021-10-16T17:52:24.080785Z",
     "iopub.status.idle": "2021-10-16T17:52:24.112310Z",
     "shell.execute_reply": "2021-10-16T17:52:24.112879Z",
     "shell.execute_reply.started": "2021-10-16T17:22:08.315179Z"
    },
    "papermill": {
     "duration": 0.124641,
     "end_time": "2021-10-16T17:52:24.113086",
     "exception": false,
     "start_time": "2021-10-16T17:52:23.988445",
     "status": "completed"
    },
    "tags": []
   },
   "outputs": [
    {
     "name": "stdout",
     "output_type": "stream",
     "text": [
      "              precision    recall  f1-score   support\n",
      "\n",
      "         0.0       0.83      0.90      0.86      4315\n",
      "         1.0       0.59      0.44      0.50      1433\n",
      "\n",
      "    accuracy                           0.78      5748\n",
      "   macro avg       0.71      0.67      0.68      5748\n",
      "weighted avg       0.77      0.78      0.77      5748\n",
      "\n"
     ]
    }
   ],
   "source": [
    "print(classification_report(test_y,gbc_model.predict(test_X)))"
   ]
  },
  {
   "cell_type": "code",
   "execution_count": 54,
   "id": "9a35cc16",
   "metadata": {
    "execution": {
     "iopub.execute_input": "2021-10-16T17:52:24.291110Z",
     "iopub.status.busy": "2021-10-16T17:52:24.290367Z",
     "iopub.status.idle": "2021-10-16T17:52:24.307997Z",
     "shell.execute_reply": "2021-10-16T17:52:24.307389Z",
     "shell.execute_reply.started": "2021-10-16T17:22:08.350273Z"
    },
    "papermill": {
     "duration": 0.110222,
     "end_time": "2021-10-16T17:52:24.308152",
     "exception": false,
     "start_time": "2021-10-16T17:52:24.197930",
     "status": "completed"
    },
    "tags": []
   },
   "outputs": [
    {
     "name": "stdout",
     "output_type": "stream",
     "text": [
      "0.7849686847599165\n"
     ]
    }
   ],
   "source": [
    "from sklearn.metrics import accuracy_score\n",
    "print(accuracy_score(test_y,gbc_model.predict(test_X)))"
   ]
  },
  {
   "cell_type": "markdown",
   "id": "1193acd4",
   "metadata": {
    "papermill": {
     "duration": 0.084145,
     "end_time": "2021-10-16T17:52:24.478826",
     "exception": false,
     "start_time": "2021-10-16T17:52:24.394681",
     "status": "completed"
    },
    "tags": []
   },
   "source": [
    "* Through the **Gradient Boosting Classifier**, our True Negatives are 3887 and True Positives are 625 whereas the accuracy score is 78%, which can predict the outcome to a reasonably acceptable level."
   ]
  },
  {
   "cell_type": "markdown",
   "id": "8e616ffb",
   "metadata": {
    "papermill": {
     "duration": 0.084158,
     "end_time": "2021-10-16T17:52:24.647203",
     "exception": false,
     "start_time": "2021-10-16T17:52:24.563045",
     "status": "completed"
    },
    "tags": []
   },
   "source": [
    "#### B) XGBoost Model"
   ]
  },
  {
   "cell_type": "code",
   "execution_count": 55,
   "id": "3af0ecbe",
   "metadata": {
    "execution": {
     "iopub.execute_input": "2021-10-16T17:52:24.821474Z",
     "iopub.status.busy": "2021-10-16T17:52:24.820846Z",
     "iopub.status.idle": "2021-10-16T17:52:25.742127Z",
     "shell.execute_reply": "2021-10-16T17:52:25.741541Z",
     "shell.execute_reply.started": "2021-10-16T17:22:08.370905Z"
    },
    "papermill": {
     "duration": 1.009981,
     "end_time": "2021-10-16T17:52:25.742291",
     "exception": false,
     "start_time": "2021-10-16T17:52:24.732310",
     "status": "completed"
    },
    "tags": []
   },
   "outputs": [
    {
     "name": "stderr",
     "output_type": "stream",
     "text": [
      "C:\\ProgramData\\Anaconda3\\lib\\site-packages\\xgboost\\sklearn.py:1224: UserWarning: The use of label encoder in XGBClassifier is deprecated and will be removed in a future release. To remove this warning, do the following: 1) Pass option use_label_encoder=False when constructing XGBClassifier object; and 2) Encode your labels (y) as integers starting with 0, i.e. 0, 1, 2, ..., [num_class - 1].\n",
      "  warnings.warn(label_encoder_deprecation_msg, UserWarning)\n"
     ]
    },
    {
     "name": "stdout",
     "output_type": "stream",
     "text": [
      "[14:54:07] WARNING: C:/Users/Administrator/workspace/xgboost-win64_release_1.5.1/src/learner.cc:1115: Starting in XGBoost 1.3.0, the default evaluation metric used with the objective 'binary:logistic' was changed from 'error' to 'logloss'. Explicitly set eval_metric if you'd like to restore the old behavior.\n"
     ]
    },
    {
     "data": {
      "text/plain": [
       "XGBClassifier(base_score=0.5, booster='gbtree', colsample_bylevel=1,\n",
       "              colsample_bynode=1, colsample_bytree=1, enable_categorical=False,\n",
       "              gamma=0, gpu_id=-1, importance_type=None,\n",
       "              interaction_constraints='', learning_rate=0.300000012,\n",
       "              max_delta_step=0, max_depth=6, min_child_weight=1, missing=nan,\n",
       "              monotone_constraints='()', n_estimators=100, n_jobs=6,\n",
       "              num_parallel_tree=1, predictor='auto', random_state=0,\n",
       "              reg_alpha=0, reg_lambda=1, scale_pos_weight=1, subsample=1,\n",
       "              tree_method='exact', validate_parameters=1, verbosity=None)"
      ]
     },
     "execution_count": 55,
     "metadata": {},
     "output_type": "execute_result"
    }
   ],
   "source": [
    "from xgboost import XGBClassifier\n",
    "# Define model\n",
    "xg = XGBClassifier()\n",
    "# Fit model\n",
    "xg.fit(X, y)"
   ]
  },
  {
   "cell_type": "code",
   "execution_count": 56,
   "id": "b0c4cd2a",
   "metadata": {
    "execution": {
     "iopub.execute_input": "2021-10-16T17:52:25.918153Z",
     "iopub.status.busy": "2021-10-16T17:52:25.917432Z",
     "iopub.status.idle": "2021-10-16T17:52:31.259470Z",
     "shell.execute_reply": "2021-10-16T17:52:31.260129Z",
     "shell.execute_reply.started": "2021-10-16T17:22:09.124719Z"
    },
    "papermill": {
     "duration": 5.432515,
     "end_time": "2021-10-16T17:52:31.260360",
     "exception": false,
     "start_time": "2021-10-16T17:52:25.827845",
     "status": "completed"
    },
    "tags": []
   },
   "outputs": [
    {
     "name": "stderr",
     "output_type": "stream",
     "text": [
      "C:\\ProgramData\\Anaconda3\\lib\\site-packages\\xgboost\\sklearn.py:1224: UserWarning: The use of label encoder in XGBClassifier is deprecated and will be removed in a future release. To remove this warning, do the following: 1) Pass option use_label_encoder=False when constructing XGBClassifier object; and 2) Encode your labels (y) as integers starting with 0, i.e. 0, 1, 2, ..., [num_class - 1].\n",
      "  warnings.warn(label_encoder_deprecation_msg, UserWarning)\n"
     ]
    },
    {
     "name": "stdout",
     "output_type": "stream",
     "text": [
      "[14:54:10] WARNING: C:/Users/Administrator/workspace/xgboost-win64_release_1.5.1/src/learner.cc:1115: Starting in XGBoost 1.3.0, the default evaluation metric used with the objective 'binary:logistic' was changed from 'error' to 'logloss'. Explicitly set eval_metric if you'd like to restore the old behavior.\n"
     ]
    },
    {
     "name": "stderr",
     "output_type": "stream",
     "text": [
      "C:\\ProgramData\\Anaconda3\\lib\\site-packages\\xgboost\\sklearn.py:1224: UserWarning: The use of label encoder in XGBClassifier is deprecated and will be removed in a future release. To remove this warning, do the following: 1) Pass option use_label_encoder=False when constructing XGBClassifier object; and 2) Encode your labels (y) as integers starting with 0, i.e. 0, 1, 2, ..., [num_class - 1].\n",
      "  warnings.warn(label_encoder_deprecation_msg, UserWarning)\n"
     ]
    },
    {
     "name": "stdout",
     "output_type": "stream",
     "text": [
      "[14:54:10] WARNING: C:/Users/Administrator/workspace/xgboost-win64_release_1.5.1/src/learner.cc:1115: Starting in XGBoost 1.3.0, the default evaluation metric used with the objective 'binary:logistic' was changed from 'error' to 'logloss'. Explicitly set eval_metric if you'd like to restore the old behavior.\n"
     ]
    },
    {
     "name": "stderr",
     "output_type": "stream",
     "text": [
      "C:\\ProgramData\\Anaconda3\\lib\\site-packages\\xgboost\\sklearn.py:1224: UserWarning: The use of label encoder in XGBClassifier is deprecated and will be removed in a future release. To remove this warning, do the following: 1) Pass option use_label_encoder=False when constructing XGBClassifier object; and 2) Encode your labels (y) as integers starting with 0, i.e. 0, 1, 2, ..., [num_class - 1].\n",
      "  warnings.warn(label_encoder_deprecation_msg, UserWarning)\n"
     ]
    },
    {
     "name": "stdout",
     "output_type": "stream",
     "text": [
      "[14:54:11] WARNING: C:/Users/Administrator/workspace/xgboost-win64_release_1.5.1/src/learner.cc:1115: Starting in XGBoost 1.3.0, the default evaluation metric used with the objective 'binary:logistic' was changed from 'error' to 'logloss'. Explicitly set eval_metric if you'd like to restore the old behavior.\n"
     ]
    },
    {
     "name": "stderr",
     "output_type": "stream",
     "text": [
      "C:\\ProgramData\\Anaconda3\\lib\\site-packages\\xgboost\\sklearn.py:1224: UserWarning: The use of label encoder in XGBClassifier is deprecated and will be removed in a future release. To remove this warning, do the following: 1) Pass option use_label_encoder=False when constructing XGBClassifier object; and 2) Encode your labels (y) as integers starting with 0, i.e. 0, 1, 2, ..., [num_class - 1].\n",
      "  warnings.warn(label_encoder_deprecation_msg, UserWarning)\n"
     ]
    },
    {
     "name": "stdout",
     "output_type": "stream",
     "text": [
      "[14:54:12] WARNING: C:/Users/Administrator/workspace/xgboost-win64_release_1.5.1/src/learner.cc:1115: Starting in XGBoost 1.3.0, the default evaluation metric used with the objective 'binary:logistic' was changed from 'error' to 'logloss'. Explicitly set eval_metric if you'd like to restore the old behavior.\n"
     ]
    },
    {
     "name": "stderr",
     "output_type": "stream",
     "text": [
      "C:\\ProgramData\\Anaconda3\\lib\\site-packages\\xgboost\\sklearn.py:1224: UserWarning: The use of label encoder in XGBClassifier is deprecated and will be removed in a future release. To remove this warning, do the following: 1) Pass option use_label_encoder=False when constructing XGBClassifier object; and 2) Encode your labels (y) as integers starting with 0, i.e. 0, 1, 2, ..., [num_class - 1].\n",
      "  warnings.warn(label_encoder_deprecation_msg, UserWarning)\n"
     ]
    },
    {
     "name": "stdout",
     "output_type": "stream",
     "text": [
      "[14:54:13] WARNING: C:/Users/Administrator/workspace/xgboost-win64_release_1.5.1/src/learner.cc:1115: Starting in XGBoost 1.3.0, the default evaluation metric used with the objective 'binary:logistic' was changed from 'error' to 'logloss'. Explicitly set eval_metric if you'd like to restore the old behavior.\n"
     ]
    },
    {
     "data": {
      "text/plain": [
       "array([0.81035981, 0.81192421, 0.81293463, 0.8174548 , 0.82232267])"
      ]
     },
     "execution_count": 56,
     "metadata": {},
     "output_type": "execute_result"
    }
   ],
   "source": [
    "folds = StratifiedKFold(n_splits = 5, shuffle = True, random_state = 100)\n",
    "scores = cross_val_score(xg, X_smote, y_smote, scoring='accuracy', cv=folds)\n",
    "scores"
   ]
  },
  {
   "cell_type": "code",
   "execution_count": 57,
   "id": "e0ea0fb4",
   "metadata": {
    "execution": {
     "iopub.execute_input": "2021-10-16T17:52:31.445206Z",
     "iopub.status.busy": "2021-10-16T17:52:31.444447Z",
     "iopub.status.idle": "2021-10-16T17:52:31.447112Z",
     "shell.execute_reply": "2021-10-16T17:52:31.447692Z",
     "shell.execute_reply.started": "2021-10-16T17:22:13.630230Z"
    },
    "papermill": {
     "duration": 0.097813,
     "end_time": "2021-10-16T17:52:31.447878",
     "exception": false,
     "start_time": "2021-10-16T17:52:31.350065",
     "status": "completed"
    },
    "tags": []
   },
   "outputs": [
    {
     "data": {
      "text/plain": [
       "(81.49992251729581, 0.4356720914220157)"
      ]
     },
     "execution_count": 57,
     "metadata": {},
     "output_type": "execute_result"
    }
   ],
   "source": [
    "scores.mean()*100,scores.std()*100"
   ]
  },
  {
   "cell_type": "code",
   "execution_count": 58,
   "id": "ac3ce448",
   "metadata": {
    "execution": {
     "iopub.execute_input": "2021-10-16T17:52:31.626418Z",
     "iopub.status.busy": "2021-10-16T17:52:31.625789Z",
     "iopub.status.idle": "2021-10-16T17:52:31.629354Z",
     "shell.execute_reply": "2021-10-16T17:52:31.629849Z",
     "shell.execute_reply.started": "2021-10-16T17:22:13.637978Z"
    },
    "papermill": {
     "duration": 0.094566,
     "end_time": "2021-10-16T17:52:31.630022",
     "exception": false,
     "start_time": "2021-10-16T17:52:31.535456",
     "status": "completed"
    },
    "tags": []
   },
   "outputs": [],
   "source": [
    "from sklearn.metrics import classification_report,confusion_matrix,ConfusionMatrixDisplay"
   ]
  },
  {
   "cell_type": "code",
   "execution_count": 59,
   "id": "42cfc0d8",
   "metadata": {
    "execution": {
     "iopub.execute_input": "2021-10-16T17:52:31.809787Z",
     "iopub.status.busy": "2021-10-16T17:52:31.809152Z",
     "iopub.status.idle": "2021-10-16T17:52:31.835945Z",
     "shell.execute_reply": "2021-10-16T17:52:31.836798Z",
     "shell.execute_reply.started": "2021-10-16T17:22:13.655250Z"
    },
    "papermill": {
     "duration": 0.118194,
     "end_time": "2021-10-16T17:52:31.837019",
     "exception": false,
     "start_time": "2021-10-16T17:52:31.718825",
     "status": "completed"
    },
    "tags": []
   },
   "outputs": [
    {
     "name": "stdout",
     "output_type": "stream",
     "text": [
      "[[4019  296]\n",
      " [ 718  715]]\n"
     ]
    }
   ],
   "source": [
    "print(confusion_matrix(test_y,xg.predict(test_X)))"
   ]
  },
  {
   "cell_type": "code",
   "execution_count": 60,
   "id": "5348907d",
   "metadata": {
    "execution": {
     "iopub.execute_input": "2021-10-16T17:52:32.022919Z",
     "iopub.status.busy": "2021-10-16T17:52:32.021968Z",
     "iopub.status.idle": "2021-10-16T17:52:32.310224Z",
     "shell.execute_reply": "2021-10-16T17:52:32.309064Z",
     "shell.execute_reply.started": "2021-10-16T17:22:13.685788Z"
    },
    "papermill": {
     "duration": 0.385854,
     "end_time": "2021-10-16T17:52:32.310403",
     "exception": false,
     "start_time": "2021-10-16T17:52:31.924549",
     "status": "completed"
    },
    "tags": []
   },
   "outputs": [
    {
     "data": {
      "text/plain": [
       "<sklearn.metrics._plot.confusion_matrix.ConfusionMatrixDisplay at 0x2689acfd280>"
      ]
     },
     "execution_count": 60,
     "metadata": {},
     "output_type": "execute_result"
    },
    {
     "data": {
      "image/png": "[encoded data removed]",
      "text/plain": [
       "<Figure size 432x288 with 2 Axes>"
      ]
     },
     "metadata": {
      "needs_background": "light"
     },
     "output_type": "display_data"
    }
   ],
   "source": [
    "cm=confusion_matrix(test_y,xg.predict(test_X))\n",
    "cm_display = ConfusionMatrixDisplay(confusion_matrix=cm,\n",
    "                               display_labels=xg.classes_)\n",
    "cm_display.plot()"
   ]
  },
  {
   "cell_type": "code",
   "execution_count": 61,
   "id": "602e9e10",
   "metadata": {
    "execution": {
     "iopub.execute_input": "2021-10-16T17:52:32.495030Z",
     "iopub.status.busy": "2021-10-16T17:52:32.494258Z",
     "iopub.status.idle": "2021-10-16T17:52:32.526781Z",
     "shell.execute_reply": "2021-10-16T17:52:32.527293Z",
     "shell.execute_reply.started": "2021-10-16T17:22:13.961944Z"
    },
    "papermill": {
     "duration": 0.12608,
     "end_time": "2021-10-16T17:52:32.527487",
     "exception": false,
     "start_time": "2021-10-16T17:52:32.401407",
     "status": "completed"
    },
    "tags": []
   },
   "outputs": [
    {
     "name": "stdout",
     "output_type": "stream",
     "text": [
      "              precision    recall  f1-score   support\n",
      "\n",
      "         0.0       0.85      0.93      0.89      4315\n",
      "         1.0       0.71      0.50      0.59      1433\n",
      "\n",
      "    accuracy                           0.82      5748\n",
      "   macro avg       0.78      0.72      0.74      5748\n",
      "weighted avg       0.81      0.82      0.81      5748\n",
      "\n"
     ]
    }
   ],
   "source": [
    "from sklearn.metrics import classification_report\n",
    "print(classification_report(test_y,xg.predict(test_X)))"
   ]
  },
  {
   "cell_type": "code",
   "execution_count": 62,
   "id": "2473adeb",
   "metadata": {
    "execution": {
     "iopub.execute_input": "2021-10-16T17:52:32.712545Z",
     "iopub.status.busy": "2021-10-16T17:52:32.711537Z",
     "iopub.status.idle": "2021-10-16T17:52:32.726946Z",
     "shell.execute_reply": "2021-10-16T17:52:32.727655Z",
     "shell.execute_reply.started": "2021-10-16T17:22:13.995987Z"
    },
    "papermill": {
     "duration": 0.109495,
     "end_time": "2021-10-16T17:52:32.727884",
     "exception": false,
     "start_time": "2021-10-16T17:52:32.618389",
     "status": "completed"
    },
    "tags": []
   },
   "outputs": [
    {
     "name": "stdout",
     "output_type": "stream",
     "text": [
      "0.8235908141962421\n"
     ]
    }
   ],
   "source": [
    "from sklearn.metrics import accuracy_score\n",
    "print(accuracy_score(test_y,xg.predict(test_X)))"
   ]
  },
  {
   "cell_type": "markdown",
   "id": "4bc36eff",
   "metadata": {
    "papermill": {
     "duration": 0.102708,
     "end_time": "2021-10-16T17:52:32.926194",
     "exception": false,
     "start_time": "2021-10-16T17:52:32.823486",
     "status": "completed"
    },
    "tags": []
   },
   "source": [
    "* Through the **XGBoost Model**, our True Negatives are 4019 and True Positives are 715 whereas the accuracy score is 82%, which can predict the outcome to a reasonably acceptable level."
   ]
  },
  {
   "cell_type": "markdown",
   "id": "8090f784",
   "metadata": {
    "papermill": {
     "duration": 0.09934,
     "end_time": "2021-10-16T17:52:33.124531",
     "exception": false,
     "start_time": "2021-10-16T17:52:33.025191",
     "status": "completed"
    },
    "tags": []
   },
   "source": [
    "#### Conclusion\n",
    "It has been noted that, while running models several times the accuracy scores may slightly vary.\n",
    "Out of the two models, we used in our analysis **Gradient Boosting** having accuracy score of **78%** while the accuracy score of **XGBoost** is **82%**. To the data pertains to the HR analytics the **XGBoost** model is the best performing model that can be used for a reasonable acceptable outcome level."
   ]
  },
  {
   "cell_type": "code",
   "execution_count": null,
   "id": "89fb73cb",
   "metadata": {},
   "outputs": [],
   "source": []
  }
 ],
 "metadata": {
  "kernelspec": {
   "display_name": "Python 3",
   "language": "python",
   "name": "python3"
  },
  "language_info": {
   "codemirror_mode": {
    "name": "ipython",
    "version": 3
   },
   "file_extension": ".py",
   "mimetype": "text/x-python",
   "name": "python",
   "nbconvert_exporter": "python",
   "pygments_lexer": "ipython3",
   "version": "3.8.8"
  },
  "papermill": {
   "default_parameters": {},
   "duration": 48.876941,
   "end_time": "2021-10-16T17:52:33.946006",
   "environment_variables": {},
   "exception": null,
   "input_path": "__notebook__.ipynb",
   "output_path": "__notebook__.ipynb",
   "parameters": {},
   "start_time": "2021-10-16T17:51:45.069065",
   "version": "2.3.3"
  }
 },
 "nbformat": 4,
 "nbformat_minor": 5
}
